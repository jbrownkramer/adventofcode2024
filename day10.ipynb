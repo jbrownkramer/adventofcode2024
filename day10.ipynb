{
 "cells": [
  {
   "cell_type": "code",
   "execution_count": 12,
   "id": "f6a9e647",
   "metadata": {},
   "outputs": [],
   "source": [
    "from collections import defaultdict"
   ]
  },
  {
   "cell_type": "code",
   "execution_count": 1,
   "id": "f8731ea1",
   "metadata": {},
   "outputs": [],
   "source": [
    "with open(\"10.in\") as f:\n",
    "    D = f.read()\n",
    "\n",
    "lines = D.split(\"\\n\")"
   ]
  },
  {
   "cell_type": "code",
   "execution_count": 8,
   "id": "36990710",
   "metadata": {},
   "outputs": [],
   "source": [
    "grid = []\n",
    "for i,l in enumerate(lines):\n",
    "    grid.append([int(c) for c in l])\n",
    "    \n",
    "m = len(grid)\n",
    "n = len(grid[0])"
   ]
  },
  {
   "cell_type": "code",
   "execution_count": 10,
   "id": "1489fa63",
   "metadata": {},
   "outputs": [],
   "source": [
    "def nreachable(grid,i,j):\n",
    "    m = len(grid)\n",
    "    n = len(grid[0])\n",
    "    \n",
    "    frontier = [(i,j)]\n",
    "    v = grid[i][j]\n",
    "    \n",
    "    while len(frontier) > 0:\n",
    "        new_frontier = set()\n",
    "        for i,j in frontier:\n",
    "            for di,dj in [(-1,0),(1,0),(0,-1),(0,1)]:\n",
    "                ni = i + di\n",
    "                nj = j + dj\n",
    "                if ni < 0 or ni >= m or nj < 0 or nj >= n:\n",
    "                    continue\n",
    "                    \n",
    "                if grid[ni][nj] == v + 1:\n",
    "                    new_frontier.add((ni,nj))\n",
    "                    \n",
    "        frontier = new_frontier\n",
    "        v += 1\n",
    "        \n",
    "        if v == 9:\n",
    "            return len(frontier)\n",
    "                    \n",
    "        "
   ]
  },
  {
   "cell_type": "code",
   "execution_count": 11,
   "id": "e4d8a920",
   "metadata": {},
   "outputs": [
    {
     "data": {
      "text/plain": [
       "430"
      ]
     },
     "execution_count": 11,
     "metadata": {},
     "output_type": "execute_result"
    }
   ],
   "source": [
    "t = 0\n",
    "for i in range(m):\n",
    "    for j in range(m):\n",
    "        if grid[i][j] == 0:\n",
    "            t += nreachable(grid,i,j)\n",
    "            \n",
    "t"
   ]
  },
  {
   "cell_type": "markdown",
   "id": "def7a0cc",
   "metadata": {},
   "source": [
    "# Part 2"
   ]
  },
  {
   "cell_type": "code",
   "execution_count": 18,
   "id": "bccade4e",
   "metadata": {},
   "outputs": [],
   "source": [
    "def rating(grid,i,j):\n",
    "    m = len(grid)\n",
    "    n = len(grid[0])\n",
    "    \n",
    "    frontier = {(i,j) : 1}\n",
    "    v = grid[i][j]\n",
    "    \n",
    "    while len(frontier) > 0:\n",
    "        new_frontier = defaultdict(int)\n",
    "        for i,j in frontier:\n",
    "            for di,dj in [(-1,0),(1,0),(0,-1),(0,1)]:\n",
    "                ni = i + di\n",
    "                nj = j + dj\n",
    "                if ni < 0 or ni >= m or nj < 0 or nj >= n:\n",
    "                    continue\n",
    "                    \n",
    "                if grid[ni][nj] == v + 1:\n",
    "                    new_frontier[(ni,nj)] += frontier[(i,j)]\n",
    "                    \n",
    "        frontier = new_frontier\n",
    "        v += 1\n",
    "        \n",
    "        if v == 9:\n",
    "            return sum(new_frontier.values())"
   ]
  },
  {
   "cell_type": "code",
   "execution_count": 19,
   "id": "786cdf03",
   "metadata": {},
   "outputs": [
    {
     "data": {
      "text/plain": [
       "928"
      ]
     },
     "execution_count": 19,
     "metadata": {},
     "output_type": "execute_result"
    }
   ],
   "source": [
    "t = 0\n",
    "for i in range(m):\n",
    "    for j in range(m):\n",
    "        if grid[i][j] == 0:\n",
    "            t += rating(grid,i,j)\n",
    "            \n",
    "t"
   ]
  },
  {
   "cell_type": "code",
   "execution_count": null,
   "id": "8f682d80",
   "metadata": {},
   "outputs": [],
   "source": []
  }
 ],
 "metadata": {
  "kernelspec": {
   "display_name": "Python 3 (ipykernel)",
   "language": "python",
   "name": "python3"
  },
  "language_info": {
   "codemirror_mode": {
    "name": "ipython",
    "version": 3
   },
   "file_extension": ".py",
   "mimetype": "text/x-python",
   "name": "python",
   "nbconvert_exporter": "python",
   "pygments_lexer": "ipython3",
   "version": "3.8.4"
  }
 },
 "nbformat": 4,
 "nbformat_minor": 5
}
