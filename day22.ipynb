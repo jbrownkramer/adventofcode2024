{
 "cells": [
  {
   "cell_type": "code",
   "execution_count": 9,
   "id": "67e0af56",
   "metadata": {},
   "outputs": [],
   "source": [
    "from collections import defaultdict"
   ]
  },
  {
   "cell_type": "code",
   "execution_count": 19,
   "id": "fde08605",
   "metadata": {},
   "outputs": [],
   "source": [
    "with open(\"22.in\") as f:\n",
    "    d = f.read()\n",
    "    lines = d.split(\"\\n\")\n",
    "nums = [int(l) for l in lines]"
   ]
  },
  {
   "cell_type": "code",
   "execution_count": 2,
   "id": "b0260f7b",
   "metadata": {},
   "outputs": [],
   "source": [
    "def next_secret(secret):\n",
    "    m = 16777216\n",
    "    secret = (secret ^ (secret << 6)) % m\n",
    "    secret = (secret ^ (secret >> 5)) % m\n",
    "    secret = (secret ^ (secret << 11)) % m\n",
    "    \n",
    "    return secret"
   ]
  },
  {
   "cell_type": "code",
   "execution_count": 6,
   "id": "a6952c9a",
   "metadata": {},
   "outputs": [
    {
     "data": {
      "text/plain": [
       "14180628689"
      ]
     },
     "execution_count": 6,
     "metadata": {},
     "output_type": "execute_result"
    }
   ],
   "source": [
    "t = 0\n",
    "for n in nums:\n",
    "    for i in range(2000):\n",
    "        n = next_secret(n)\n",
    "    t += n\n",
    "t"
   ]
  },
  {
   "cell_type": "code",
   "execution_count": 7,
   "id": "8782d7d6",
   "metadata": {},
   "outputs": [
    {
     "data": {
      "text/plain": [
       "1729"
      ]
     },
     "execution_count": 7,
     "metadata": {},
     "output_type": "execute_result"
    }
   ],
   "source": [
    "len(lines)"
   ]
  },
  {
   "cell_type": "markdown",
   "id": "f9a57e7a",
   "metadata": {},
   "source": [
    "# Part 2"
   ]
  },
  {
   "cell_type": "code",
   "execution_count": 20,
   "id": "7f16fb36",
   "metadata": {},
   "outputs": [],
   "source": [
    "won = defaultdict(int)\n",
    "for n in nums:\n",
    "    changes = tuple()\n",
    "    won_this_monkey = {}\n",
    "    for i in range(2000):\n",
    "        next_n = next_secret(n)\n",
    "        change = next_n % 10 - n % 10\n",
    "        if len(changes) < 4:\n",
    "            changes += (change,)\n",
    "        else:\n",
    "            changes = changes[1:] + (change,)\n",
    "            \n",
    "        n = next_n\n",
    "            \n",
    "        if len(changes) == 4:\n",
    "            if changes in won_this_monkey:\n",
    "                continue\n",
    "            won_this_monkey[changes] = next_n % 10\n",
    "    for k,v in won_this_monkey.items():\n",
    "        won[k] += v"
   ]
  },
  {
   "cell_type": "code",
   "execution_count": 21,
   "id": "d3c0612f",
   "metadata": {},
   "outputs": [
    {
     "data": {
      "text/plain": [
       "1690"
      ]
     },
     "execution_count": 21,
     "metadata": {},
     "output_type": "execute_result"
    }
   ],
   "source": [
    "max(won.values())"
   ]
  },
  {
   "cell_type": "code",
   "execution_count": 16,
   "id": "b6ddb5db",
   "metadata": {},
   "outputs": [
    {
     "data": {
      "text/plain": [
       "16"
      ]
     },
     "execution_count": 16,
     "metadata": {},
     "output_type": "execute_result"
    }
   ],
   "source": [
    "won[(-2,1,-1,3)]"
   ]
  },
  {
   "cell_type": "code",
   "execution_count": null,
   "id": "46a45de6",
   "metadata": {},
   "outputs": [],
   "source": []
  }
 ],
 "metadata": {
  "kernelspec": {
   "display_name": "Python 3 (ipykernel)",
   "language": "python",
   "name": "python3"
  },
  "language_info": {
   "codemirror_mode": {
    "name": "ipython",
    "version": 3
   },
   "file_extension": ".py",
   "mimetype": "text/x-python",
   "name": "python",
   "nbconvert_exporter": "python",
   "pygments_lexer": "ipython3",
   "version": "3.8.4"
  }
 },
 "nbformat": 4,
 "nbformat_minor": 5
}
