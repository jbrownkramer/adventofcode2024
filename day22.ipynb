{
 "cells": [
  {
   "cell_type": "code",
   "execution_count": 9,
   "id": "816b05f4",
   "metadata": {},
   "outputs": [],
   "source": [
    "from collections import defaultdict"
   ]
  },
  {
   "cell_type": "code",
   "execution_count": 19,
   "id": "c4718e66",
   "metadata": {},
   "outputs": [],
   "source": [
    "with open(\"22.in\") as f:\n",
    "    d = f.read()\n",
    "    lines = d.split(\"\\n\")\n",
    "nums = [int(l) for l in lines]"
   ]
  },
  {
   "cell_type": "code",
   "execution_count": 2,
   "id": "a72833bf",
   "metadata": {},
   "outputs": [],
   "source": [
    "def next_secret(secret):\n",
    "    m = 16777216\n",
    "    secret = (secret ^ (secret << 6)) % m\n",
    "    secret = (secret ^ (secret >> 5)) % m\n",
    "    secret = (secret ^ (secret << 11)) % m\n",
    "    \n",
    "    return secret"
   ]
  },
  {
   "cell_type": "code",
   "execution_count": 6,
   "id": "dff02a0e",
   "metadata": {},
   "outputs": [
    {
     "data": {
      "text/plain": [
       "14180628689"
      ]
     },
     "execution_count": 6,
     "metadata": {},
     "output_type": "execute_result"
    }
   ],
   "source": [
    "t = 0\n",
    "for n in nums:\n",
    "    for i in range(2000):\n",
    "        n = next_secret(n)\n",
    "    t += n\n",
    "t"
   ]
  },
  {
   "cell_type": "code",
   "execution_count": 7,
   "id": "d2dff16c",
   "metadata": {},
   "outputs": [
    {
     "data": {
      "text/plain": [
       "1729"
      ]
     },
     "execution_count": 7,
     "metadata": {},
     "output_type": "execute_result"
    }
   ],
   "source": [
    "len(lines)"
   ]
  },
  {
   "cell_type": "markdown",
   "id": "d1d4387f",
   "metadata": {},
   "source": [
    "# Part 2"
   ]
  },
  {
   "cell_type": "code",
   "execution_count": 27,
   "id": "d86fc188",
   "metadata": {},
   "outputs": [],
   "source": [
    "won = defaultdict(int)\n",
    "all_price = []\n",
    "monkey_had = 0\n",
    "for n in nums:\n",
    "    changes = tuple()\n",
    "    won_this_monkey = {}\n",
    "    for i in range(2000):\n",
    "        next_n = next_secret(n)\n",
    "        change = next_n % 10 - n % 10\n",
    "        if len(changes) < 4:\n",
    "            changes += (change,)\n",
    "        else:\n",
    "            changes = changes[1:] + (change,)\n",
    "            \n",
    "        n = next_n\n",
    "            \n",
    "        if len(changes) == 4:\n",
    "            all_price.append(next_n%10)\n",
    "            if changes in won_this_monkey:\n",
    "                continue\n",
    "            if changes == (0, 0, -1, 2):\n",
    "                #print(next_n % 10)\n",
    "                monkey_had += 1\n",
    "            won_this_monkey[changes] = next_n % 10\n",
    "    for k,v in won_this_monkey.items():\n",
    "        won[k] += v"
   ]
  },
  {
   "cell_type": "code",
   "execution_count": 21,
   "id": "2fde73ce",
   "metadata": {},
   "outputs": [
    {
     "data": {
      "text/plain": [
       "1690"
      ]
     },
     "execution_count": 21,
     "metadata": {},
     "output_type": "execute_result"
    }
   ],
   "source": [
    "max(won.values())"
   ]
  },
  {
   "cell_type": "code",
   "execution_count": 72,
   "id": "510f7dfc",
   "metadata": {},
   "outputs": [
    {
     "data": {
      "text/plain": [
       "1729"
      ]
     },
     "execution_count": 72,
     "metadata": {},
     "output_type": "execute_result"
    }
   ],
   "source": [
    "len(nums)"
   ]
  },
  {
   "cell_type": "code",
   "execution_count": 67,
   "id": "ef79ed11",
   "metadata": {},
   "outputs": [
    {
     "data": {
      "text/plain": [
       "1553.76585"
      ]
     },
     "execution_count": 67,
     "metadata": {},
     "output_type": "execute_result"
    }
   ],
   "source": [
    "4.5*len(nums)*1997/10000"
   ]
  },
  {
   "cell_type": "code",
   "execution_count": 25,
   "id": "61eb8a3f",
   "metadata": {},
   "outputs": [
    {
     "data": {
      "text/plain": [
       "[(0, 0, -1, 2)]"
      ]
     },
     "execution_count": 25,
     "metadata": {},
     "output_type": "execute_result"
    }
   ],
   "source": [
    "[k for k,v in won.items() if v == 1690]"
   ]
  },
  {
   "cell_type": "code",
   "execution_count": 70,
   "id": "fa40ec25",
   "metadata": {},
   "outputs": [
    {
     "data": {
      "text/plain": [
       "1690"
      ]
     },
     "execution_count": 70,
     "metadata": {},
     "output_type": "execute_result"
    }
   ],
   "source": [
    "won[(0, 0, -1, 2)]"
   ]
  },
  {
   "cell_type": "code",
   "execution_count": 75,
   "id": "325bcbfb",
   "metadata": {},
   "outputs": [],
   "source": [
    "import numpy as np"
   ]
  },
  {
   "cell_type": "code",
   "execution_count": 76,
   "id": "18075c2e",
   "metadata": {},
   "outputs": [
    {
     "data": {
      "text/plain": [
       "15.234675172434757"
      ]
     },
     "execution_count": 76,
     "metadata": {},
     "output_type": "execute_result"
    }
   ],
   "source": [
    "np.sqrt(1729*0.15976*(1 - 0.15976))"
   ]
  },
  {
   "cell_type": "code",
   "execution_count": 71,
   "id": "47124f4e",
   "metadata": {},
   "outputs": [
    {
     "data": {
      "text/plain": [
       "0.15976"
      ]
     },
     "execution_count": 71,
     "metadata": {},
     "output_type": "execute_result"
    }
   ],
   "source": [
    "8/10**5 * 1997"
   ]
  },
  {
   "cell_type": "code",
   "execution_count": 69,
   "id": "89bd852e",
   "metadata": {},
   "outputs": [
    {
     "data": {
      "text/plain": [
       "1306"
      ]
     },
     "execution_count": 69,
     "metadata": {},
     "output_type": "execute_result"
    }
   ],
   "source": [
    "won[(0,0,0,2)]"
   ]
  },
  {
   "cell_type": "code",
   "execution_count": 16,
   "id": "e561f3d3",
   "metadata": {},
   "outputs": [
    {
     "data": {
      "text/plain": [
       "16"
      ]
     },
     "execution_count": 16,
     "metadata": {},
     "output_type": "execute_result"
    }
   ],
   "source": [
    "won[(-2,1,-1,3)]"
   ]
  },
  {
   "cell_type": "code",
   "execution_count": 23,
   "id": "753cd81f",
   "metadata": {},
   "outputs": [
    {
     "data": {
      "text/plain": [
       "4.501288659420594"
      ]
     },
     "execution_count": 23,
     "metadata": {},
     "output_type": "execute_result"
    }
   ],
   "source": [
    "sum(all_price)/len(all_price)"
   ]
  },
  {
   "cell_type": "code",
   "execution_count": 24,
   "id": "666cfbd6",
   "metadata": {},
   "outputs": [
    {
     "data": {
      "text/plain": [
       "1729"
      ]
     },
     "execution_count": 24,
     "metadata": {},
     "output_type": "execute_result"
    }
   ],
   "source": [
    "len(nums)"
   ]
  },
  {
   "cell_type": "code",
   "execution_count": 28,
   "id": "d4383c5a",
   "metadata": {},
   "outputs": [
    {
     "data": {
      "text/plain": [
       "311"
      ]
     },
     "execution_count": 28,
     "metadata": {},
     "output_type": "execute_result"
    }
   ],
   "source": [
    "monkey_had"
   ]
  },
  {
   "cell_type": "code",
   "execution_count": 29,
   "id": "eb317cb1",
   "metadata": {},
   "outputs": [
    {
     "data": {
      "text/plain": [
       "5.434083601286174"
      ]
     },
     "execution_count": 29,
     "metadata": {},
     "output_type": "execute_result"
    }
   ],
   "source": [
    "1690 / 311"
   ]
  },
  {
   "cell_type": "markdown",
   "id": "80254758",
   "metadata": {},
   "source": [
    "# Beyond"
   ]
  },
  {
   "cell_type": "code",
   "execution_count": 30,
   "id": "9b2a7d91",
   "metadata": {},
   "outputs": [],
   "source": [
    "won = defaultdict(int)\n",
    "all_price = []\n",
    "monkey_had = 0\n",
    "n_9 = 0\n",
    "for n in nums:\n",
    "    changes = tuple()\n",
    "    won_this_monkey = {}\n",
    "    has_9 = False\n",
    "    for i in range(2000):\n",
    "        next_n = next_secret(n)\n",
    "        has_9 = True\n",
    "        change = next_n % 10 - n % 10\n",
    "        if len(changes) < 4:\n",
    "            changes += (change,)\n",
    "        else:\n",
    "            changes = changes[1:] + (change,)\n",
    "            \n",
    "        n = next_n\n",
    "            \n",
    "        if len(changes) == 4:\n",
    "            all_price.append(next_n%10)\n",
    "            if changes in won_this_monkey:\n",
    "                continue\n",
    "            if changes == (0, 0, -1, 2):\n",
    "                #print(next_n % 10)\n",
    "                monkey_had += 1\n",
    "            won_this_monkey[changes] = next_n % 10\n",
    "    if has_9:\n",
    "        n_9 += 1\n",
    "    for k,v in won_this_monkey.items():\n",
    "        won[k] += v"
   ]
  },
  {
   "cell_type": "code",
   "execution_count": 32,
   "id": "e4280c70",
   "metadata": {},
   "outputs": [
    {
     "data": {
      "text/plain": [
       "1729"
      ]
     },
     "execution_count": 32,
     "metadata": {},
     "output_type": "execute_result"
    }
   ],
   "source": [
    "n_9"
   ]
  },
  {
   "cell_type": "code",
   "execution_count": 33,
   "id": "f05d163f",
   "metadata": {},
   "outputs": [
    {
     "data": {
      "text/plain": [
       "1729"
      ]
     },
     "execution_count": 33,
     "metadata": {},
     "output_type": "execute_result"
    }
   ],
   "source": [
    "len(lines)"
   ]
  },
  {
   "cell_type": "code",
   "execution_count": 36,
   "id": "525c6232",
   "metadata": {},
   "outputs": [],
   "source": [
    "best_threshold = [0]\n",
    "expected = [4.5]\n",
    "\n",
    "while(len(best_threshold) < 2001):\n",
    "    bt = None\n",
    "    e = None\n",
    "    for test_threshold in range(10):\n",
    "        value = expected[-1]*test_threshold/10  + (45 - (test_threshold - 1)*test_threshold/2)/10\n",
    "        if bt is None or value > e:\n",
    "            e = value\n",
    "            bt = test_threshold\n",
    "    best_threshold.append(bt)\n",
    "    expected.append(e)"
   ]
  },
  {
   "cell_type": "code",
   "execution_count": 40,
   "id": "5f452589",
   "metadata": {},
   "outputs": [
    {
     "data": {
      "text/plain": [
       "[0, 5, 6, 7, 7, 8, 8, 8, 8, 8, 9]"
      ]
     },
     "execution_count": 40,
     "metadata": {},
     "output_type": "execute_result"
    }
   ],
   "source": [
    "best_threshold[:11]"
   ]
  },
  {
   "cell_type": "code",
   "execution_count": 41,
   "id": "6d5205d5",
   "metadata": {},
   "outputs": [
    {
     "data": {
      "text/plain": [
       "[4.5,\n",
       " 5.75,\n",
       " 6.45,\n",
       " 6.914999999999999,\n",
       " 7.240499999999999,\n",
       " 7.492399999999999,\n",
       " 7.693919999999999,\n",
       " 7.855136,\n",
       " 7.9841088000000004,\n",
       " 8.08728704]"
      ]
     },
     "execution_count": 41,
     "metadata": {},
     "output_type": "execute_result"
    }
   ],
   "source": [
    "expected[:10]"
   ]
  },
  {
   "cell_type": "code",
   "execution_count": 51,
   "id": "87226fba",
   "metadata": {},
   "outputs": [],
   "source": [
    "num_evolution = [nums]\n",
    "\n",
    "current_nums = nums\n",
    "for _ in range(9):\n",
    "    current_nums = [next_secret(n) for n in current_nums]\n",
    "    num_evolution.append(current_nums)\n",
    "    \n",
    "price_evolution = []\n",
    "for gen in num_evolution:\n",
    "    price_evolution.append([n % 10 for n in gen])"
   ]
  },
  {
   "cell_type": "code",
   "execution_count": 52,
   "id": "d401784b",
   "metadata": {},
   "outputs": [],
   "source": [
    "remaining_value = [[0 for i in range(len(nums))] for t in range(9)]\n",
    "remaining_value.append(price_evolution[-1])\n",
    "\n",
    "\n",
    "for t in range(8,-1,-1):\n",
    "    for i in range(len(nums)):\n",
    "        remaining_value[t][i] = max(remaining_value[t+1][i],price_evolution[t][i])\n",
    "        "
   ]
  },
  {
   "cell_type": "code",
   "execution_count": 56,
   "id": "77f782d6",
   "metadata": {},
   "outputs": [],
   "source": [
    "good_policy = [0, 5, 6, 7, 7, 8, 8, 8, 8, 8][::-1]\n",
    "indices = range(len(nums))\n",
    "value = 0\n",
    "for t in range(10):\n",
    "    threshold = good_policy[t]\n",
    "    pe = price_evolution[t]\n",
    "    new_indices = []\n",
    "    for i in indices:\n",
    "        if pe[i] >= threshold:\n",
    "            value += pe[i]\n",
    "        else:\n",
    "            new_indices.append(i)\n",
    "            \n",
    "    indices = new_indices"
   ]
  },
  {
   "cell_type": "code",
   "execution_count": 57,
   "id": "1fa220d7",
   "metadata": {},
   "outputs": [
    {
     "data": {
      "text/plain": [
       "8.068825910931174"
      ]
     },
     "execution_count": 57,
     "metadata": {},
     "output_type": "execute_result"
    }
   ],
   "source": [
    "value/len(nums)"
   ]
  },
  {
   "cell_type": "code",
   "execution_count": 61,
   "id": "1f6f208a",
   "metadata": {},
   "outputs": [],
   "source": [
    "best = value\n",
    "def optimal(value_so_far,t,indices):\n",
    "    global best\n",
    "    if t == 9:\n",
    "        pe = price_evolution[t]\n",
    "        for i in indices:\n",
    "            value_so_far += price_evolution[t][i]\n",
    "        if value_so_far > best:\n",
    "            best = value_so_far\n",
    "        return value_so_far,[0]\n",
    "    \n",
    "    my_best_value = None\n",
    "    my_best_policy = None\n",
    "    \n",
    "    for test_threshold in range(10):\n",
    "        new_indices = []\n",
    "        local_value_so_far = value_so_far\n",
    "        pe = price_evolution[t]\n",
    "        for i in indices:\n",
    "            if pe[i] >= test_threshold:\n",
    "                local_value_so_far += pe[i]\n",
    "            else:\n",
    "                new_indices.append(i)\n",
    "        max_possible = local_value_so_far\n",
    "        rv = remaining_value[t+1]\n",
    "        for i in new_indices:\n",
    "            max_possible += rv[i]\n",
    "            \n",
    "        if max_possible < best:\n",
    "            continue\n",
    "            \n",
    "        value, policy = optimal(local_value_so_far,t+1,new_indices)\n",
    "        \n",
    "        if value is None:\n",
    "            continue\n",
    "            \n",
    "        if my_best_value is None or value > my_best_value:\n",
    "            my_best_value = value\n",
    "            my_best_policy = [test_threshold] + policy\n",
    "            \n",
    "            \n",
    "    return my_best_value, my_best_policy\n",
    "            \n",
    "                \n",
    "                "
   ]
  },
  {
   "cell_type": "code",
   "execution_count": 62,
   "id": "b9f416a4",
   "metadata": {},
   "outputs": [
    {
     "data": {
      "text/plain": [
       "(13955, [8, 8, 8, 8, 8, 7, 7, 6, 4, 0])"
      ]
     },
     "execution_count": 62,
     "metadata": {},
     "output_type": "execute_result"
    }
   ],
   "source": [
    "optimal(0,0,list(range(len(nums))))"
   ]
  },
  {
   "cell_type": "code",
   "execution_count": 63,
   "id": "1a0d8a67",
   "metadata": {},
   "outputs": [
    {
     "data": {
      "text/plain": [
       "13951"
      ]
     },
     "execution_count": 63,
     "metadata": {},
     "output_type": "execute_result"
    }
   ],
   "source": [
    "value"
   ]
  },
  {
   "cell_type": "code",
   "execution_count": 64,
   "id": "3e53da2c",
   "metadata": {},
   "outputs": [
    {
     "data": {
      "text/plain": [
       "[8, 8, 8, 8, 8, 7, 7, 6, 5, 0]"
      ]
     },
     "execution_count": 64,
     "metadata": {},
     "output_type": "execute_result"
    }
   ],
   "source": [
    "good_policy"
   ]
  },
  {
   "cell_type": "code",
   "execution_count": null,
   "id": "537b0b80",
   "metadata": {},
   "outputs": [],
   "source": []
  }
 ],
 "metadata": {
  "kernelspec": {
   "display_name": "Python 3 (ipykernel)",
   "language": "python",
   "name": "python3"
  },
  "language_info": {
   "codemirror_mode": {
    "name": "ipython",
    "version": 3
   },
   "file_extension": ".py",
   "mimetype": "text/x-python",
   "name": "python",
   "nbconvert_exporter": "python",
   "pygments_lexer": "ipython3",
   "version": "3.8.4"
  }
 },
 "nbformat": 4,
 "nbformat_minor": 5
}
