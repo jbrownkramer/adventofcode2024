{
 "cells": [
  {
   "cell_type": "code",
   "execution_count": 69,
   "id": "40dd519a",
   "metadata": {},
   "outputs": [],
   "source": [
    "from tqdm.notebook import tqdm"
   ]
  },
  {
   "cell_type": "code",
   "execution_count": 71,
   "id": "5f471890",
   "metadata": {},
   "outputs": [],
   "source": [
    "with open(\"6.in\",\"r\") as f:\n",
    "    lines = f.readlines()\n",
    "    lines = [l.strip() for l in lines]"
   ]
  },
  {
   "cell_type": "code",
   "execution_count": 37,
   "id": "7ccd04d9",
   "metadata": {},
   "outputs": [],
   "source": [
    "def search(lines):\n",
    "    for gi in range(m):\n",
    "        for gj in range(n):\n",
    "            if lines[gi][gj] in \"^vV<>\":\n",
    "                print(lines[gi][gj])\n",
    "                return gi,gj"
   ]
  },
  {
   "cell_type": "code",
   "execution_count": 42,
   "id": "6fc7650b",
   "metadata": {},
   "outputs": [],
   "source": [
    "chars = set()\n",
    "\n",
    "for l in lines:\n",
    "    for c in l:\n",
    "        chars.add(c)"
   ]
  },
  {
   "cell_type": "code",
   "execution_count": 43,
   "id": "4b515a59",
   "metadata": {},
   "outputs": [
    {
     "data": {
      "text/plain": [
       "{'#', '.', '^'}"
      ]
     },
     "execution_count": 43,
     "metadata": {},
     "output_type": "execute_result"
    }
   ],
   "source": [
    "chars"
   ]
  },
  {
   "cell_type": "code",
   "execution_count": 59,
   "id": "842edc4c",
   "metadata": {},
   "outputs": [
    {
     "name": "stdout",
     "output_type": "stream",
     "text": [
      "^\n"
     ]
    }
   ],
   "source": [
    "m = len(lines)\n",
    "n = len(lines[0])\n",
    "\n",
    "gi,gj = search(lines)\n",
    "            \n",
    "di,dj = {\"^\" : (-1,0), \"v\" : (1,0), \"V\" : (1,0), \"<\" : (0,-1), \">\" : (0,1)}[lines[gi][gj]]\n",
    "next_d = {(-1,0) : (0,1), (0,1) : (1,0), (1,0) : (0,-1), (0,-1) : (-1,0)}\n",
    "\n",
    "while True:\n",
    "    lines[gi] = lines[gi][:gj] + \"X\" + lines[gi][gj+1:]\n",
    "\n",
    "    while (0 <= gi + di < m) and (0 <= gj + dj < n) and lines[gi + di][gj + dj] == \"#\":\n",
    "        di,dj = next_d[(di,dj)]\n",
    "\n",
    "    gi += di\n",
    "    gj += dj\n",
    "\n",
    "    if not ((0 <= gi < m) and (0 <= gj < n)):\n",
    "        break"
   ]
  },
  {
   "cell_type": "code",
   "execution_count": 60,
   "id": "7642071d",
   "metadata": {},
   "outputs": [],
   "source": [
    "t = 0\n",
    "for l in lines:\n",
    "    t += l.count(\"X\") "
   ]
  },
  {
   "cell_type": "code",
   "execution_count": 62,
   "id": "9918022e",
   "metadata": {},
   "outputs": [
    {
     "name": "stdout",
     "output_type": "stream",
     "text": [
      "....#.....\n",
      "....XXXXX#\n",
      "....X...X.\n",
      "..#.X...X.\n",
      "..XXXXX#X.\n",
      "..X.X.X.X.\n",
      ".#XXXXXXX.\n",
      ".XXXXXXX#.\n",
      "#XXXXXXX..\n",
      "......#X..\n"
     ]
    }
   ],
   "source": [
    "for l in lines:\n",
    "    print(l)"
   ]
  },
  {
   "cell_type": "code",
   "execution_count": 61,
   "id": "b1476687",
   "metadata": {},
   "outputs": [
    {
     "data": {
      "text/plain": [
       "41"
      ]
     },
     "execution_count": 61,
     "metadata": {},
     "output_type": "execute_result"
    }
   ],
   "source": [
    "t"
   ]
  },
  {
   "cell_type": "code",
   "execution_count": 36,
   "id": "69181722",
   "metadata": {},
   "outputs": [
    {
     "data": {
      "text/plain": [
       "5241"
      ]
     },
     "execution_count": 36,
     "metadata": {},
     "output_type": "execute_result"
    }
   ],
   "source": [
    "t"
   ]
  },
  {
   "cell_type": "markdown",
   "id": "455b46f1",
   "metadata": {},
   "source": [
    "# Part 2"
   ]
  },
  {
   "cell_type": "code",
   "execution_count": 73,
   "id": "7a1edfdf",
   "metadata": {},
   "outputs": [],
   "source": [
    "def loops(lines,gi,gj,di,dj):\n",
    "    m = len(lines)\n",
    "    n = len(lines[0])\n",
    "    \n",
    "    states = set([(gi,gj,di,dj)])\n",
    "    \n",
    "    next_d = {(-1,0) : (0,1), (0,1) : (1,0), (1,0) : (0,-1), (0,-1) : (-1,0)}\n",
    "\n",
    "    while True:\n",
    "        while (0 <= gi + di < m) and (0 <= gj + dj < n) and lines[gi + di][gj + dj] == \"#\":\n",
    "            di,dj = next_d[(di,dj)]\n",
    "            state = (gi,gj,di,dj)\n",
    "            if (gi,gj,di,dj) in state:\n",
    "                return True\n",
    "            states.add(state)\n",
    "            \n",
    "        gi += di\n",
    "        gj += dj\n",
    "        \n",
    "        state = (gi,gj,di,dj)\n",
    "        if state in states:\n",
    "            return True\n",
    "        states.add(state)\n",
    "\n",
    "        if not ((0 <= gi < m) and (0 <= gj < n)):\n",
    "            return False"
   ]
  },
  {
   "cell_type": "code",
   "execution_count": 65,
   "id": "6a532e82",
   "metadata": {},
   "outputs": [
    {
     "name": "stdout",
     "output_type": "stream",
     "text": [
      "^\n"
     ]
    }
   ],
   "source": []
  },
  {
   "cell_type": "code",
   "execution_count": 66,
   "id": "e0ba1f95",
   "metadata": {},
   "outputs": [],
   "source": [
    "di,dj = (-1,0)"
   ]
  },
  {
   "cell_type": "code",
   "execution_count": 74,
   "id": "819f094b",
   "metadata": {},
   "outputs": [],
   "source": [
    "m = len(lines)\n",
    "n = len(lines[0])"
   ]
  },
  {
   "cell_type": "code",
   "execution_count": 75,
   "id": "1d908d58",
   "metadata": {},
   "outputs": [
    {
     "data": {
      "text/plain": [
       "(130, 130)"
      ]
     },
     "execution_count": 75,
     "metadata": {},
     "output_type": "execute_result"
    }
   ],
   "source": [
    "m,n"
   ]
  },
  {
   "cell_type": "code",
   "execution_count": null,
   "id": "589ec535",
   "metadata": {},
   "outputs": [],
   "source": []
  },
  {
   "cell_type": "code",
   "execution_count": 79,
   "id": "c0cd936e",
   "metadata": {},
   "outputs": [
    {
     "name": "stdout",
     "output_type": "stream",
     "text": [
      "^\n",
      "0\n",
      "1\n",
      "2\n",
      "3\n",
      "4\n",
      "5\n",
      "6\n",
      "7\n",
      "8\n",
      "9\n",
      "10\n",
      "11\n",
      "12\n",
      "13\n",
      "14\n",
      "15\n",
      "16\n",
      "17\n",
      "18\n",
      "19\n",
      "20\n",
      "21\n",
      "22\n",
      "23\n",
      "24\n",
      "25\n",
      "26\n",
      "27\n",
      "28\n",
      "29\n",
      "30\n",
      "31\n",
      "32\n",
      "33\n",
      "34\n",
      "35\n",
      "36\n",
      "37\n",
      "38\n",
      "39\n",
      "40\n",
      "41\n",
      "42\n",
      "43\n",
      "44\n",
      "45\n",
      "46\n",
      "47\n",
      "48\n",
      "49\n",
      "50\n",
      "51\n",
      "52\n",
      "53\n",
      "54\n",
      "55\n",
      "56\n",
      "57\n",
      "58\n",
      "59\n",
      "60\n",
      "61\n",
      "62\n",
      "63\n",
      "64\n",
      "65\n",
      "66\n",
      "67\n",
      "68\n",
      "69\n",
      "70\n",
      "71\n",
      "72\n",
      "73\n",
      "74\n",
      "75\n",
      "76\n",
      "77\n",
      "78\n",
      "79\n",
      "80\n",
      "81\n",
      "82\n",
      "83\n",
      "84\n",
      "85\n",
      "86\n",
      "87\n",
      "88\n",
      "89\n",
      "90\n",
      "91\n",
      "92\n",
      "93\n",
      "94\n",
      "95\n",
      "96\n",
      "97\n",
      "98\n",
      "99\n",
      "100\n",
      "101\n",
      "102\n",
      "103\n",
      "104\n",
      "105\n",
      "106\n",
      "107\n",
      "108\n",
      "109\n",
      "110\n",
      "111\n",
      "112\n",
      "113\n",
      "114\n",
      "115\n",
      "116\n",
      "117\n",
      "118\n",
      "119\n",
      "120\n",
      "121\n",
      "122\n",
      "123\n",
      "124\n",
      "125\n",
      "126\n",
      "127\n",
      "128\n",
      "129\n"
     ]
    }
   ],
   "source": [
    "m = len(lines)\n",
    "n = len(lines[0])\n",
    "gi,gj = search(lines)\n",
    "di,dj = (-1,0)\n",
    "\n",
    "t = 0\n",
    "for i in range(m):\n",
    "    print(i)\n",
    "    for j in range(n):\n",
    "        if lines[i][j] == \".\":\n",
    "            lines[i] = lines[i][:j] + \"#\" + lines[i][j+1:]\n",
    "            if loops(lines,gi,gj,di,dj):\n",
    "                t+=1\n",
    "            lines[i] = lines[i][:j] + \".\" + lines[i][j+1:]\n"
   ]
  },
  {
   "cell_type": "code",
   "execution_count": 80,
   "id": "ff408525",
   "metadata": {},
   "outputs": [
    {
     "data": {
      "text/plain": [
       "1424"
      ]
     },
     "execution_count": 80,
     "metadata": {},
     "output_type": "execute_result"
    }
   ],
   "source": [
    "t"
   ]
  },
  {
   "cell_type": "code",
   "execution_count": 70,
   "id": "3d7ac94d",
   "metadata": {},
   "outputs": [
    {
     "data": {
      "text/plain": [
       "10"
      ]
     },
     "execution_count": 70,
     "metadata": {},
     "output_type": "execute_result"
    }
   ],
   "source": [
    "m"
   ]
  },
  {
   "cell_type": "code",
   "execution_count": null,
   "id": "57c1dcdf",
   "metadata": {},
   "outputs": [],
   "source": []
  }
 ],
 "metadata": {
  "kernelspec": {
   "display_name": "Python 3 (ipykernel)",
   "language": "python",
   "name": "python3"
  },
  "language_info": {
   "codemirror_mode": {
    "name": "ipython",
    "version": 3
   },
   "file_extension": ".py",
   "mimetype": "text/x-python",
   "name": "python",
   "nbconvert_exporter": "python",
   "pygments_lexer": "ipython3",
   "version": "3.8.4"
  }
 },
 "nbformat": 4,
 "nbformat_minor": 5
}
