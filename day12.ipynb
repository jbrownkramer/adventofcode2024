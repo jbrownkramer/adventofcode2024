{
 "cells": [
  {
   "cell_type": "code",
   "execution_count": 3,
   "metadata": {},
   "outputs": [],
   "source": [
    "with open(\"12.in\") as f:\n",
    "    D = f.read()\n",
    "    \n",
    "lines  = D.split(\"\\n\")\n",
    "grid = [[c for c in l] for l in lines]"
   ]
  },
  {
   "cell_type": "code",
   "execution_count": 4,
   "metadata": {},
   "outputs": [
    {
     "data": {
      "text/plain": [
       "'I'"
      ]
     },
     "execution_count": 4,
     "metadata": {},
     "output_type": "execute_result"
    }
   ],
   "source": [
    "grid[10][10]"
   ]
  },
  {
   "cell_type": "code",
   "execution_count": 9,
   "metadata": {},
   "outputs": [],
   "source": [
    "def component(grid,i,j,visited):\n",
    "    m = len(grid)\n",
    "    n = len(grid[0])\n",
    "    \n",
    "    v = grid[i][j]\n",
    "    \n",
    "    #to_return = []\n",
    "    frontier = [(i,j)]\n",
    "    visited[i][j] = True\n",
    "\n",
    "    perimeter = 0\n",
    "    area = 1\n",
    "    \n",
    "    while len(frontier) > 0:\n",
    "        new_frontier = []\n",
    "        \n",
    "        for fi,fj in frontier:\n",
    "            for di,dj in [(-1,0),(0,-1),(1,0),(0,1)]:\n",
    "                ni = fi + di\n",
    "                nj = fj + dj\n",
    "\n",
    "                if ni < 0 or ni >= m or nj < 0 or nj >= n or grid[ni][nj] != v:\n",
    "                    perimeter += 1\n",
    "                    continue\n",
    "\n",
    "                if visited[ni][nj]:\n",
    "                    continue\n",
    "\n",
    "                visited[ni][nj] = True\n",
    "                new_frontier.append((ni,nj))\n",
    "                area += 1\n",
    "\n",
    "        frontier = new_frontier\n",
    "\n",
    "    return perimeter,area\n",
    "                "
   ]
  },
  {
   "cell_type": "code",
   "execution_count": 13,
   "metadata": {},
   "outputs": [
    {
     "data": {
      "text/plain": [
       "1374934"
      ]
     },
     "execution_count": 13,
     "metadata": {},
     "output_type": "execute_result"
    }
   ],
   "source": [
    "m = len(grid)\n",
    "n = len(grid[0])\n",
    "\n",
    "visited = [[False for _ in range(n)] for _ in range(m)]\n",
    "t = 0\n",
    "for i in range(m):\n",
    "    for j in range(n):\n",
    "        if not visited[i][j]:\n",
    "            p,a = component(grid,i,j,visited)\n",
    "            t += p*a\n",
    "t"
   ]
  },
  {
   "cell_type": "code",
   "execution_count": 24,
   "metadata": {},
   "outputs": [],
   "source": [
    "def component2(grid,i,j,visited):\n",
    "    m = len(grid)\n",
    "    n = len(grid[0])\n",
    "    \n",
    "    v = grid[i][j]\n",
    "    \n",
    "    #to_return = []\n",
    "    frontier = [(i,j)]\n",
    "    visited[i][j] = True\n",
    "\n",
    "    directions = [(-1,0),(0,-1),(1,0),(0,1)]\n",
    "    has_edge = {d : [[False for _ in range(n)] for _ in range(m)] for d in directions}\n",
    "\n",
    "    sides = 0\n",
    "    area = 1\n",
    "    \n",
    "    while len(frontier) > 0:\n",
    "        new_frontier = []\n",
    "        \n",
    "        for fi,fj in frontier:\n",
    "            for di,dj in directions:\n",
    "                ni = fi + di\n",
    "                nj = fj + dj\n",
    "\n",
    "                if ni < 0 or ni >= m or nj < 0 or nj >= n or grid[ni][nj] != v:\n",
    "                    has_edge[(di,dj)][fi][fj] = True\n",
    "                    sides += 1\n",
    "\n",
    "                    sdj, sdi = di,dj\n",
    "                    for sign in [-1,1]:\n",
    "                        ni = fi + sdi*sign\n",
    "                        nj = fj + sdj*sign\n",
    "                        if (0 <= ni < m) and (0 <= nj < n) and has_edge[(di,dj)][ni][nj]:\n",
    "                            sides -= 1\n",
    "                    continue\n",
    "                    \n",
    "\n",
    "                if visited[ni][nj]:\n",
    "                    continue\n",
    "\n",
    "                visited[ni][nj] = True\n",
    "                new_frontier.append((ni,nj))\n",
    "                area += 1\n",
    "\n",
    "        frontier = new_frontier\n",
    "\n",
    "    return sides,area"
   ]
  },
  {
   "cell_type": "code",
   "execution_count": 25,
   "metadata": {},
   "outputs": [
    {
     "data": {
      "text/plain": [
       "841078"
      ]
     },
     "execution_count": 25,
     "metadata": {},
     "output_type": "execute_result"
    }
   ],
   "source": [
    "m = len(grid)\n",
    "n = len(grid[0])\n",
    "\n",
    "visited = [[False for _ in range(n)] for _ in range(m)]\n",
    "t = 0\n",
    "for i in range(m):\n",
    "    for j in range(n):\n",
    "        if not visited[i][j]:\n",
    "            s,a = component2(grid,i,j,visited)\n",
    "            t += s*a\n",
    "t"
   ]
  },
  {
   "cell_type": "code",
   "execution_count": null,
   "metadata": {},
   "outputs": [],
   "source": []
  }
 ],
 "metadata": {
  "kernelspec": {
   "display_name": "Python 3 (ipykernel)",
   "language": "python",
   "name": "python3"
  },
  "language_info": {
   "codemirror_mode": {
    "name": "ipython",
    "version": 3
   },
   "file_extension": ".py",
   "mimetype": "text/x-python",
   "name": "python",
   "nbconvert_exporter": "python",
   "pygments_lexer": "ipython3",
   "version": "3.8.10"
  }
 },
 "nbformat": 4,
 "nbformat_minor": 4
}
