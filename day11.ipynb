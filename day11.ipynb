{
 "cells": [
  {
   "cell_type": "code",
   "execution_count": 5,
   "id": "a431a784",
   "metadata": {},
   "outputs": [],
   "source": [
    "with open(\"11.in\") as f:\n",
    "    line = f.read().strip()\n",
    "l = list(map(int,line.split()))"
   ]
  },
  {
   "cell_type": "code",
   "execution_count": 6,
   "id": "07a47635",
   "metadata": {},
   "outputs": [
    {
     "data": {
      "text/plain": [
       "[6, 11, 33023, 4134, 564, 0, 8922422, 688775]"
      ]
     },
     "execution_count": 6,
     "metadata": {},
     "output_type": "execute_result"
    }
   ],
   "source": [
    "l"
   ]
  },
  {
   "cell_type": "code",
   "execution_count": 2,
   "id": "2970c21b",
   "metadata": {},
   "outputs": [],
   "source": [
    "def rule(n):\n",
    "    if n == 0:\n",
    "        return [1]\n",
    "    \n",
    "    s = str(n)\n",
    "    l = len(s)\n",
    "    if l % 2 == 0:\n",
    "        return [int(s[:l//2]),int(s[l//2:])]\n",
    "    \n",
    "    return [n*2024]\n",
    "\n",
    "def step(l):\n",
    "    to_return = []\n",
    "    \n",
    "    for n in l:\n",
    "        to_return.extend(rule(n))\n",
    "        \n",
    "    return to_return\n",
    "\n",
    "def evolve(l,nsteps):\n",
    "    for s in range(nsteps):\n",
    "        l = step(l)\n",
    "        \n",
    "    return l"
   ]
  },
  {
   "cell_type": "code",
   "execution_count": 8,
   "id": "736aefef",
   "metadata": {
    "scrolled": true
   },
   "outputs": [
    {
     "data": {
      "text/plain": [
       "220999"
      ]
     },
     "execution_count": 8,
     "metadata": {},
     "output_type": "execute_result"
    }
   ],
   "source": [
    "len(evolve(l,25))"
   ]
  },
  {
   "cell_type": "code",
   "execution_count": 9,
   "id": "24c83385",
   "metadata": {},
   "outputs": [
    {
     "data": {
      "text/plain": [
       "8"
      ]
     },
     "execution_count": 9,
     "metadata": {},
     "output_type": "execute_result"
    }
   ],
   "source": [
    "len(l)"
   ]
  },
  {
   "cell_type": "code",
   "execution_count": 10,
   "id": "8aeedd1f",
   "metadata": {},
   "outputs": [
    {
     "data": {
      "text/plain": [
       "27624.875"
      ]
     },
     "execution_count": 10,
     "metadata": {},
     "output_type": "execute_result"
    }
   ],
   "source": [
    "220999 / 8"
   ]
  },
  {
   "cell_type": "code",
   "execution_count": 11,
   "id": "6caaeba2",
   "metadata": {},
   "outputs": [
    {
     "data": {
      "text/plain": [
       "6104876376"
      ]
     },
     "execution_count": 11,
     "metadata": {},
     "output_type": "execute_result"
    }
   ],
   "source": [
    "220999 * 27624"
   ]
  },
  {
   "cell_type": "markdown",
   "id": "599903e4",
   "metadata": {},
   "source": [
    "# Part 2"
   ]
  },
  {
   "cell_type": "code",
   "execution_count": 26,
   "id": "f5bc24ec",
   "metadata": {},
   "outputs": [],
   "source": [
    "memo = {}\n",
    "\n",
    "def ndescendants(n,steps):\n",
    "    if (n,steps) in memo:\n",
    "        return memo[(n,steps)]\n",
    "    \n",
    "    if steps == 0:\n",
    "        return 1\n",
    "    \n",
    "    t = 0\n",
    "    for c in rule(n):\n",
    "        t += ndescendants(c,steps-1)\n",
    "        \n",
    "    memo[(n,steps)] = t\n",
    "    \n",
    "    return t\n",
    "\n",
    "def answer(l,steps):\n",
    "    t = 0\n",
    "    for n in l:\n",
    "        t += ndescendants(n,steps)\n",
    "    \n",
    "    return t"
   ]
  },
  {
   "cell_type": "code",
   "execution_count": 27,
   "id": "6d224b1b",
   "metadata": {},
   "outputs": [
    {
     "data": {
      "text/plain": [
       "220999"
      ]
     },
     "execution_count": 27,
     "metadata": {},
     "output_type": "execute_result"
    }
   ],
   "source": [
    "answer(l,25)"
   ]
  },
  {
   "cell_type": "code",
   "execution_count": 28,
   "id": "0e33791c",
   "metadata": {},
   "outputs": [
    {
     "data": {
      "text/plain": [
       "261936432123724"
      ]
     },
     "execution_count": 28,
     "metadata": {},
     "output_type": "execute_result"
    }
   ],
   "source": [
    "answer(l,75)"
   ]
  },
  {
   "cell_type": "code",
   "execution_count": null,
   "id": "f6d25f1f",
   "metadata": {},
   "outputs": [],
   "source": []
  }
 ],
 "metadata": {
  "kernelspec": {
   "display_name": "Python 3 (ipykernel)",
   "language": "python",
   "name": "python3"
  },
  "language_info": {
   "codemirror_mode": {
    "name": "ipython",
    "version": 3
   },
   "file_extension": ".py",
   "mimetype": "text/x-python",
   "name": "python",
   "nbconvert_exporter": "python",
   "pygments_lexer": "ipython3",
   "version": "3.8.4"
  }
 },
 "nbformat": 4,
 "nbformat_minor": 5
}
