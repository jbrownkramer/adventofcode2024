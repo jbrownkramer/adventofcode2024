{
 "cells": [
  {
   "cell_type": "code",
   "execution_count": 13,
   "id": "63d6e258",
   "metadata": {},
   "outputs": [],
   "source": [
    "with open(\"7.in\") as f:\n",
    "    lines = f.readlines()\n",
    "    lines = [l.strip() for l in lines]"
   ]
  },
  {
   "cell_type": "code",
   "execution_count": 7,
   "id": "0ff199e8",
   "metadata": {},
   "outputs": [],
   "source": [
    "def parse(line):\n",
    "    l,r = line.split(\":\")\n",
    "    result = int(l)\n",
    "    \n",
    "    parts  = r.split()\n",
    "    \n",
    "    return result, list(map(int,parts))\n",
    "\n",
    "def valid_recursive(result,partial,parts):\n",
    "    if len(parts) == 0:\n",
    "        return result == partial\n",
    "    \n",
    "    if valid_recursive(result,partial+parts[0],parts[1:]):\n",
    "        return True\n",
    "    \n",
    "    if valid_recursive(result,partial*parts[0],parts[1:]):\n",
    "        return True\n",
    "    \n",
    "    return False\n",
    "    \n",
    "\n",
    "def valid(result,parts):\n",
    "    return valid_recursive(result,parts[0],parts[1:])\n",
    "        "
   ]
  },
  {
   "cell_type": "code",
   "execution_count": 9,
   "id": "4e52d518",
   "metadata": {},
   "outputs": [
    {
     "data": {
      "text/plain": [
       "True"
      ]
     },
     "execution_count": 9,
     "metadata": {},
     "output_type": "execute_result"
    }
   ],
   "source": [
    "valid(*parse(lines[0]))"
   ]
  },
  {
   "cell_type": "code",
   "execution_count": 14,
   "id": "8d7ba8d2",
   "metadata": {},
   "outputs": [
    {
     "data": {
      "text/plain": [
       "6083020304036"
      ]
     },
     "execution_count": 14,
     "metadata": {},
     "output_type": "execute_result"
    }
   ],
   "source": [
    "t = 0\n",
    "for l in lines:\n",
    "    result,parts = parse(l)\n",
    "    if valid(result,parts):\n",
    "        t += result\n",
    "        \n",
    "t"
   ]
  },
  {
   "cell_type": "markdown",
   "id": "881f197e",
   "metadata": {},
   "source": [
    "# Part 2"
   ]
  },
  {
   "cell_type": "code",
   "execution_count": 20,
   "id": "7b37a11f",
   "metadata": {},
   "outputs": [],
   "source": [
    "def valid_recursive2(result,partial,parts):\n",
    "    if len(parts) == 0:\n",
    "        return result == partial\n",
    "    \n",
    "    if valid_recursive2(result,partial+parts[0],parts[1:]):\n",
    "        return True\n",
    "    \n",
    "    if valid_recursive2(result,partial*parts[0],parts[1:]):\n",
    "        return True\n",
    "    \n",
    "    if valid_recursive2(result,int(str(partial) + str(parts[0])),parts[1:]):\n",
    "        return True\n",
    "    \n",
    "    return False\n",
    "    \n",
    "\n",
    "def valid2(result,parts):\n",
    "    return valid_recursive2(result,parts[0],parts[1:])"
   ]
  },
  {
   "cell_type": "code",
   "execution_count": 21,
   "id": "f0918bdb",
   "metadata": {},
   "outputs": [
    {
     "data": {
      "text/plain": [
       "59002246504791"
      ]
     },
     "execution_count": 21,
     "metadata": {},
     "output_type": "execute_result"
    }
   ],
   "source": [
    "t = 0\n",
    "for l in lines:\n",
    "    result,parts = parse(l)\n",
    "    if valid2(result,parts):\n",
    "        t += result\n",
    "        \n",
    "t"
   ]
  },
  {
   "cell_type": "code",
   "execution_count": null,
   "id": "7663b784",
   "metadata": {},
   "outputs": [],
   "source": []
  }
 ],
 "metadata": {
  "kernelspec": {
   "display_name": "Python 3 (ipykernel)",
   "language": "python",
   "name": "python3"
  },
  "language_info": {
   "codemirror_mode": {
    "name": "ipython",
    "version": 3
   },
   "file_extension": ".py",
   "mimetype": "text/x-python",
   "name": "python",
   "nbconvert_exporter": "python",
   "pygments_lexer": "ipython3",
   "version": "3.8.4"
  }
 },
 "nbformat": 4,
 "nbformat_minor": 5
}
