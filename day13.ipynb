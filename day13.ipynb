{
 "cells": [
  {
   "cell_type": "code",
   "execution_count": 31,
   "id": "4c13ace4-fb16-44a2-a02c-c73fb6c53cef",
   "metadata": {},
   "outputs": [],
   "source": [
    "with open(\"13.in\") as f:\n",
    "    D = f.read()\n",
    "\n",
    "lines = D.split(\"\\n\")"
   ]
  },
  {
   "cell_type": "code",
   "execution_count": 9,
   "id": "5197a401-fec4-48a4-83f5-c8760bf3d16f",
   "metadata": {},
   "outputs": [],
   "source": [
    "def parse_line(line):\n",
    "    #Button A: X+62, Y+27\n",
    "    x,y = line.split()[-2:]\n",
    "    return int(x[2:-1]),int(y[2:])"
   ]
  },
  {
   "cell_type": "code",
   "execution_count": 10,
   "id": "891a70de-b817-4a73-853e-3288c3f8c3b2",
   "metadata": {},
   "outputs": [
    {
     "data": {
      "text/plain": [
       "(15, 29)"
      ]
     },
     "execution_count": 10,
     "metadata": {},
     "output_type": "execute_result"
    }
   ],
   "source": [
    "parse_line(lines[0])"
   ]
  },
  {
   "cell_type": "code",
   "execution_count": 11,
   "id": "db3207f1-2a70-491d-969b-aecec08a3f31",
   "metadata": {},
   "outputs": [
    {
     "data": {
      "text/plain": [
       "(9778, 15506)"
      ]
     },
     "execution_count": 11,
     "metadata": {},
     "output_type": "execute_result"
    }
   ],
   "source": [
    "parse_line(lines[2])"
   ]
  },
  {
   "cell_type": "code",
   "execution_count": 12,
   "id": "a214c36d-0426-470d-91e6-39df957819a4",
   "metadata": {},
   "outputs": [
    {
     "data": {
      "text/plain": [
       "'Prize: X=9778, Y=15506'"
      ]
     },
     "execution_count": 12,
     "metadata": {},
     "output_type": "execute_result"
    }
   ],
   "source": [
    "lines[2]"
   ]
  },
  {
   "cell_type": "code",
   "execution_count": 24,
   "id": "33c090d0-327f-4dee-a21e-3911a9a885ae",
   "metadata": {},
   "outputs": [],
   "source": [
    "def min_cost(a,b,p):\n",
    "    to_return = None\n",
    "    for a_presses in range(101):\n",
    "        for b_presses in range(101):\n",
    "            if a_presses * a[0] + b_presses * b[0] == p[0] and a_presses * a[1] + b_presses * b[1] == p[1]:\n",
    "                cost = 3*a_presses + b_presses\n",
    "                if to_return is None or cost < to_return:\n",
    "                    to_return = cost\n",
    "\n",
    "    return to_return\n",
    "                "
   ]
  },
  {
   "cell_type": "code",
   "execution_count": 32,
   "id": "15997d10-1f81-4ed1-9071-4e5cdb49a328",
   "metadata": {},
   "outputs": [],
   "source": [
    "t = 0\n",
    "for i in range(0,len(lines),4):\n",
    "    a = parse_line(lines[i])\n",
    "    b = parse_line(lines[i+1])\n",
    "    p = parse_line(lines[i+2])\n",
    "\n",
    "    cost = min_cost(a,b,p)\n",
    "    #print(cost)\n",
    "    if cost is not None:\n",
    "        t += cost"
   ]
  },
  {
   "cell_type": "code",
   "execution_count": 33,
   "id": "26554cd0-8158-4eba-ba1b-0d656d82ef2c",
   "metadata": {},
   "outputs": [
    {
     "data": {
      "text/plain": [
       "26599"
      ]
     },
     "execution_count": 33,
     "metadata": {},
     "output_type": "execute_result"
    }
   ],
   "source": [
    "t"
   ]
  },
  {
   "cell_type": "code",
   "execution_count": 22,
   "id": "fe43662a-3727-4dac-b4b7-e1ee51a2cec7",
   "metadata": {},
   "outputs": [
    {
     "data": {
      "text/plain": [
       "['Button A: X+94, Y+34',\n",
       " 'Button B: X+22, Y+67',\n",
       " 'Prize: X=8400, Y=5400',\n",
       " '',\n",
       " 'Button A: X+26, Y+66',\n",
       " 'Button B: X+67, Y+21',\n",
       " 'Prize: X=12748, Y=12176',\n",
       " '',\n",
       " 'Button A: X+17, Y+86',\n",
       " 'Button B: X+84, Y+37',\n",
       " 'Prize: X=7870, Y=6450',\n",
       " '',\n",
       " 'Button A: X+69, Y+23',\n",
       " 'Button B: X+27, Y+71',\n",
       " 'Prize: X=18641, Y=10279']"
      ]
     },
     "execution_count": 22,
     "metadata": {},
     "output_type": "execute_result"
    }
   ],
   "source": [
    "lines"
   ]
  },
  {
   "cell_type": "markdown",
   "id": "df1137ae-d325-4f83-ad87-333749743cda",
   "metadata": {},
   "source": [
    "# Part 2"
   ]
  },
  {
   "cell_type": "markdown",
   "id": "15a3e348-c457-41ed-83bd-fc741a5b9cee",
   "metadata": {},
   "source": [
    "## Check invertibility"
   ]
  },
  {
   "cell_type": "code",
   "execution_count": 42,
   "id": "52f51cb7-8434-4974-9dc4-d7d0e870adbe",
   "metadata": {},
   "outputs": [],
   "source": [
    "t = 0\n",
    "for i in range(0,len(lines),4):\n",
    "    button_a = parse_line(lines[i])\n",
    "    button_b = parse_line(lines[i+1])\n",
    "    p = tuple(c + 10000000000000 for c in parse_line(lines[i+2]))\n",
    "\n",
    "    #Switching to matrix notation from notes\n",
    "    a, c = button_a\n",
    "    b, d = button_b\n",
    "\n",
    "    if a*d - c*b == 0:\n",
    "        print(\"Singular!\")"
   ]
  },
  {
   "cell_type": "markdown",
   "id": "468a89da-6862-4603-b660-5998ea7689c2",
   "metadata": {},
   "source": [
    "Yay!  All invertible"
   ]
  },
  {
   "cell_type": "code",
   "execution_count": 44,
   "id": "ac263be3-f3b1-46ea-8011-fa58e7d53990",
   "metadata": {},
   "outputs": [],
   "source": [
    "t = 0\n",
    "for i in range(0,len(lines),4):\n",
    "    button_a = parse_line(lines[i])\n",
    "    button_b = parse_line(lines[i+1])\n",
    "    p = tuple(c + 10000000000000 for c in parse_line(lines[i+2]))\n",
    "\n",
    "    #Switching to matrix notation from notes\n",
    "    a, c = button_a\n",
    "    b, d = button_b\n",
    "\n",
    "    #Multiply\n",
    "    sa = d * p[0] - b * p[1]\n",
    "    sb = -c * p[0] + a * p[1]\n",
    "\n",
    "    det = a*d - c*b\n",
    "\n",
    "    if sa % det != 0 or sb % det != 0:\n",
    "        continue\n",
    "\n",
    "    t += 3*sa/det + sb/det"
   ]
  },
  {
   "cell_type": "code",
   "execution_count": 45,
   "id": "c199b4c2-617c-47ef-881c-26d89330d289",
   "metadata": {},
   "outputs": [
    {
     "data": {
      "text/plain": [
       "106228669504887.0"
      ]
     },
     "execution_count": 45,
     "metadata": {},
     "output_type": "execute_result"
    }
   ],
   "source": [
    "t"
   ]
  },
  {
   "cell_type": "code",
   "execution_count": null,
   "id": "11a61ced-770d-4c0a-971c-43cf9234925a",
   "metadata": {},
   "outputs": [],
   "source": []
  }
 ],
 "metadata": {
  "kernelspec": {
   "display_name": "Python 3 (ipykernel)",
   "language": "python",
   "name": "python3"
  },
  "language_info": {
   "codemirror_mode": {
    "name": "ipython",
    "version": 3
   },
   "file_extension": ".py",
   "mimetype": "text/x-python",
   "name": "python",
   "nbconvert_exporter": "python",
   "pygments_lexer": "ipython3",
   "version": "3.8.10"
  }
 },
 "nbformat": 4,
 "nbformat_minor": 5
}
