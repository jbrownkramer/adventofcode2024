{
 "cells": [
  {
   "cell_type": "code",
   "execution_count": 28,
   "id": "f4b22cd1-80b3-4ced-b0c8-82dd1ded2b18",
   "metadata": {},
   "outputs": [],
   "source": [
    "import time\n",
    "from collections import defaultdict"
   ]
  },
  {
   "cell_type": "code",
   "execution_count": 22,
   "id": "5bb89eb2-bfc2-4f6e-9ca5-377f9797ee12",
   "metadata": {},
   "outputs": [],
   "source": [
    "with open(\"16.in\") as f:\n",
    "    d = f.read()\n",
    "\n",
    "lines = d.split(\"\\n\")"
   ]
  },
  {
   "cell_type": "code",
   "execution_count": 23,
   "id": "930e734e-89fa-4763-9669-bc1f1af31608",
   "metadata": {},
   "outputs": [],
   "source": [
    "m = len(lines)\n",
    "n = len(lines[0])\n",
    "\n",
    "grid = []\n",
    "\n",
    "for line in lines:\n",
    "    row = [c for c in line]\n",
    "    grid.append(row)"
   ]
  },
  {
   "cell_type": "code",
   "execution_count": 24,
   "id": "e8cc9292-f5ba-41cb-9dc4-e485171d60c6",
   "metadata": {},
   "outputs": [],
   "source": [
    "def find(grid,letter):\n",
    "    for i,row in enumerate(grid):\n",
    "        for j,c in enumerate(row):\n",
    "            if c == letter:\n",
    "                return i,j"
   ]
  },
  {
   "cell_type": "code",
   "execution_count": 25,
   "id": "a421fa49-81a5-4dc7-9be4-49fc04be29ad",
   "metadata": {},
   "outputs": [],
   "source": [
    "posi,posj = find(grid,\"S\")\n",
    "direction = (0,1)\n",
    "dirs = [(0,1),(-1,0),(0,-1),(1,0)]\n",
    "\n",
    "ei,ej = find(grid,\"E\")\n",
    "goal = set((ei,ej,d) for d in dirs)\n",
    "\n",
    "#dijkstra\n",
    "frontier = {(posi,posj,direction) : 0}\n",
    "known = {}\n",
    "\n",
    "while True:\n",
    "\n",
    "    #Getting the min could probably be on a heap or something\n",
    "    min_state = None\n",
    "    min_value = None\n",
    "    for state,value in frontier.items():\n",
    "        if min_value is None or value < min_value:\n",
    "            min_value = value\n",
    "            min_state = state\n",
    "\n",
    "    frontier.pop(min_state)\n",
    "    known[min_state] = min_value\n",
    "\n",
    "    posi,posj,(di,dj) = min_state\n",
    "    if posi == ei and posj == ej:\n",
    "        break\n",
    "\n",
    "    #Moving forward\n",
    "    ni = posi + di\n",
    "    nj = posj + dj\n",
    "    new_state = (ni,nj,(di,dj))\n",
    "    if grid[ni][nj] != \"#\" and new_state not in known:\n",
    "        if new_state not in frontier:\n",
    "            frontier[new_state] = min_value + 1\n",
    "        else:\n",
    "            frontier[new_state] = min(frontier[new_state],min_value + 1)\n",
    "\n",
    "    #Turn\n",
    "    d_i = dirs.index((di,dj))\n",
    "    for ddi in [-1,1]:\n",
    "        new_dir = dirs[(d_i + ddi)%4]\n",
    "\n",
    "        new_state = (posi,posj,new_dir)\n",
    "        if new_state not in known:\n",
    "            if new_state not in frontier:\n",
    "                frontier[new_state] = min_value + 1000\n",
    "            else:\n",
    "                frontier[new_state] = min(frontier[new_state],min_value + 1000)\n"
   ]
  },
  {
   "cell_type": "code",
   "execution_count": 26,
   "id": "b80af9cf-c043-4396-b335-88cc77de1919",
   "metadata": {},
   "outputs": [
    {
     "data": {
      "text/plain": [
       "(1, 139, (0, 1))"
      ]
     },
     "execution_count": 26,
     "metadata": {},
     "output_type": "execute_result"
    }
   ],
   "source": [
    "min_state"
   ]
  },
  {
   "cell_type": "code",
   "execution_count": 27,
   "id": "069cd880-dd4f-4e0f-a131-34699ba9d331",
   "metadata": {},
   "outputs": [
    {
     "data": {
      "text/plain": [
       "130536"
      ]
     },
     "execution_count": 27,
     "metadata": {},
     "output_type": "execute_result"
    }
   ],
   "source": [
    "min_value"
   ]
  },
  {
   "cell_type": "code",
   "execution_count": null,
   "id": "46fbf1bc-655a-4d3d-8432-70d7b8899cb2",
   "metadata": {},
   "outputs": [],
   "source": [
    "min_distance(grid,posi,posj,direction)"
   ]
  },
  {
   "cell_type": "code",
   "execution_count": 1,
   "id": "8862752c-84d0-454e-991f-70feb5ee0b7f",
   "metadata": {},
   "outputs": [
    {
     "ename": "NameError",
     "evalue": "name 'grid' is not defined",
     "output_type": "error",
     "traceback": [
      "\u001b[1;31m---------------------------------------------------------------------------\u001b[0m",
      "\u001b[1;31mNameError\u001b[0m                                 Traceback (most recent call last)",
      "Cell \u001b[1;32mIn[1], line 1\u001b[0m\n\u001b[1;32m----> 1\u001b[0m \u001b[38;5;28mlen\u001b[39m(\u001b[43mgrid\u001b[49m)\n",
      "\u001b[1;31mNameError\u001b[0m: name 'grid' is not defined"
     ]
    }
   ],
   "source": [
    "len(grid)"
   ]
  },
  {
   "cell_type": "code",
   "execution_count": 1,
   "id": "d215f4c4-25aa-44a6-8825-9ef68cd93f48",
   "metadata": {},
   "outputs": [],
   "source": [
    "#dijkstra"
   ]
  },
  {
   "cell_type": "markdown",
   "id": "a2263e21-d181-4bb9-9f57-86975703ba2e",
   "metadata": {},
   "source": [
    "# Part 2"
   ]
  },
  {
   "cell_type": "code",
   "execution_count": 39,
   "id": "e8be6c5c-4b8d-4aee-9dcd-7fd38e4ef5ce",
   "metadata": {},
   "outputs": [],
   "source": [
    "posi,posj = find(grid,\"S\")\n",
    "direction = (0,1)\n",
    "dirs = [(0,1),(-1,0),(0,-1),(1,0)]\n",
    "\n",
    "ei,ej = find(grid,\"E\")\n",
    "goal = set((ei,ej,d) for d in dirs)\n",
    "\n",
    "#dijkstra\n",
    "frontier = {(posi,posj,direction) : 0}\n",
    "known = {}\n",
    "predecessors = defaultdict(list)\n",
    "\n",
    "while len(frontier) > 0:\n",
    "\n",
    "    #Getting the min could probably be on a heap or something\n",
    "    min_state = None\n",
    "    min_value = None\n",
    "    for state,value in frontier.items():\n",
    "        if min_value is None or value < min_value:\n",
    "            min_value = value\n",
    "            min_state = state\n",
    "\n",
    "    frontier.pop(min_state)\n",
    "    known[min_state] = min_value\n",
    "\n",
    "    posi,posj,(di,dj) = min_state\n",
    "\n",
    "    #Moving forward\n",
    "    ni = posi + di\n",
    "    nj = posj + dj\n",
    "    new_state = (ni,nj,(di,dj))\n",
    "    if grid[ni][nj] != \"#\" and new_state not in known:\n",
    "        if new_state not in frontier:\n",
    "            frontier[new_state] = min_value + 1\n",
    "        else:\n",
    "            frontier[new_state] = min(frontier[new_state],min_value + 1)\n",
    "\n",
    "    #Turn\n",
    "    d_i = dirs.index((di,dj))\n",
    "    for ddi in [-1,1]:\n",
    "        new_dir = dirs[(d_i + ddi)%4]\n",
    "\n",
    "        new_state = (posi,posj,new_dir)\n",
    "        if new_state not in known:\n",
    "            if new_state not in frontier:\n",
    "                frontier[new_state] = min_value + 1000\n",
    "            else:\n",
    "                frontier[new_state] = min(frontier[new_state],min_value + 1000)\n",
    "\n",
    "\n",
    "    #Get predecessor states\n",
    "    #Moving backward\n",
    "    ni = posi - di\n",
    "    nj = posj - dj\n",
    "    pred_state = (ni,nj,(di,dj))\n",
    "    if pred_state in known and known[pred_state] <= min_value - 1:\n",
    "        if min_state == (1,139,(-1,0)):\n",
    "            print(pred_state)\n",
    "        predecessors[min_state].append(pred_state)\n",
    "\n",
    "    #Turn\n",
    "    d_i = dirs.index((di,dj))\n",
    "    for ddi in [-1,1]:\n",
    "        new_dir = dirs[(d_i + ddi)%4]\n",
    "\n",
    "        new_state = (posi,posj,new_dir)\n",
    "        if new_state in known and known[new_state] <= min_value - 1000:\n",
    "            predecessors[min_state].append(new_state)"
   ]
  },
  {
   "cell_type": "code",
   "execution_count": 40,
   "id": "df7609e1-c675-488e-a61c-10768925a58c",
   "metadata": {},
   "outputs": [
    {
     "data": {
      "text/plain": [
       "[(1, 139, (0, 1))]"
      ]
     },
     "execution_count": 40,
     "metadata": {},
     "output_type": "execute_result"
    }
   ],
   "source": [
    "predecessors[(1,139,(-1,0))]"
   ]
  },
  {
   "cell_type": "code",
   "execution_count": null,
   "id": "3f370881-b6b7-4586-b247-dc4e0546b13a",
   "metadata": {},
   "outputs": [],
   "source": [
    "all_pred_sta"
   ]
  },
  {
   "cell_type": "code",
   "execution_count": 43,
   "id": "49873fa2-4b94-42ef-b51e-a9185782d92c",
   "metadata": {},
   "outputs": [
    {
     "name": "stdout",
     "output_type": "stream",
     "text": [
      "(1, 139, (1, 0)) 131536\n",
      "(1, 139, (0, -1)) 132536\n",
      "(1, 139, (0, 1)) 130536\n",
      "(1, 139, (-1, 0)) 131536\n"
     ]
    }
   ],
   "source": [
    "for g in goal:\n",
    "    print(g,known[g])"
   ]
  },
  {
   "cell_type": "code",
   "execution_count": 47,
   "id": "d6e41e5a-413d-43fe-8696-9bc85ecfef34",
   "metadata": {},
   "outputs": [],
   "source": [
    "all_ancestors = set()\n",
    "frontier = set([(1, 139, (0, 1))])\n",
    "\n",
    "while len(frontier) > 0:\n",
    "    new_frontier = set()\n",
    "    for f in frontier:\n",
    "        all_ancestors.add(f)\n",
    "        for a in predecessors[f]:\n",
    "            if a not in all_ancestors and a not in frontier:\n",
    "                new_frontier.add(a)\n",
    "    frontier = new_frontier"
   ]
  },
  {
   "cell_type": "code",
   "execution_count": 49,
   "id": "128383dd-a2ac-4dfe-9956-8f4e2c6c5e5a",
   "metadata": {},
   "outputs": [
    {
     "data": {
      "text/plain": [
       "1024"
      ]
     },
     "execution_count": 49,
     "metadata": {},
     "output_type": "execute_result"
    }
   ],
   "source": [
    "len(set((pi,pj) for pi,pj,(di,dj) in all_ancestors))"
   ]
  },
  {
   "cell_type": "code",
   "execution_count": null,
   "id": "19253e38-5f75-4bc9-8e67-9cd70b960828",
   "metadata": {},
   "outputs": [],
   "source": []
  }
 ],
 "metadata": {
  "kernelspec": {
   "display_name": "Python 3 (ipykernel)",
   "language": "python",
   "name": "python3"
  },
  "language_info": {
   "codemirror_mode": {
    "name": "ipython",
    "version": 3
   },
   "file_extension": ".py",
   "mimetype": "text/x-python",
   "name": "python",
   "nbconvert_exporter": "python",
   "pygments_lexer": "ipython3",
   "version": "3.8.10"
  }
 },
 "nbformat": 4,
 "nbformat_minor": 5
}
