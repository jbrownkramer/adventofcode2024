{
 "cells": [
  {
   "cell_type": "code",
   "execution_count": 49,
   "id": "69dcc1ab",
   "metadata": {},
   "outputs": [],
   "source": [
    "with open(\"21.in\") as f:\n",
    "    d = f.read()\n",
    "    lines = d.split(\"\\n\")"
   ]
  },
  {
   "cell_type": "code",
   "execution_count": 44,
   "id": "7d348ebc",
   "metadata": {},
   "outputs": [],
   "source": [
    "#     +---+---+\n",
    "#     | ^ | A |\n",
    "# +---+---+---+\n",
    "# | < | v | > |\n",
    "# +---+---+---+\n",
    "\n",
    "dir_pad = [\n",
    "    [\"\", \"^\",\"A\"],\n",
    "    [\"<\",\"v\",\">\"]\n",
    "]\n",
    "\n",
    "# +---+---+---+\n",
    "# | 7 | 8 | 9 |\n",
    "# +---+---+---+\n",
    "# | 4 | 5 | 6 |\n",
    "# +---+---+---+\n",
    "# | 1 | 2 | 3 |\n",
    "# +---+---+---+\n",
    "#     | 0 | A |\n",
    "#     +---+---+\n",
    "num_pad = [\n",
    "    [\"7\",\"8\",\"9\"],\n",
    "    [\"4\",\"5\",\"6\"],\n",
    "    [\"1\",\"2\",\"3\"],\n",
    "    [\"\", \"0\",\"A\"]\n",
    "]\n",
    "'<A<^A^^^AA'\n",
    "\n",
    "num_pad_shortest = {}\n",
    "\n",
    "chain = [dir_pad,dir_pad,num_pad]\n",
    "#chain = [num_pad]"
   ]
  },
  {
   "cell_type": "code",
   "execution_count": 28,
   "id": "68e26410",
   "metadata": {},
   "outputs": [],
   "source": [
    "char_to_dir = {\"^\" : (-1,0), \"<\" : (0,-1), \"v\" : (1,0), \">\" : (0,1)}\n",
    "def next_state(state,instruction,chain):\n",
    "    if len(state) == 0:\n",
    "        return tuple(),instruction\n",
    "    \n",
    "    i,j = state[0]\n",
    "    pad = chain[0]\n",
    "    \n",
    "    if instruction == \"A\":\n",
    "        next_instruction = pad[i][j]\n",
    "        state_and_output = next_state(state[1:],next_instruction,chain[1:])\n",
    "        if state_and_output is None:\n",
    "            return None\n",
    "        ns,o = state_and_output\n",
    "        return ((i,j),) + ns,o\n",
    "    \n",
    "    elif instruction in \"^<v>\":\n",
    "        di,dj = char_to_dir[instruction]\n",
    "        ni = i + di\n",
    "        nj = j + dj\n",
    "        \n",
    "        if ni < 0 or ni >= len(pad) or nj < 0 or nj >= len(pad[0]) or pad[ni][nj] == \"\":\n",
    "            return None\n",
    "        \n",
    "        return ((ni,nj),) + state[1:], None\n",
    "    else:\n",
    "        raise Exception(\"Not supposed to happen\")\n",
    "        "
   ]
  },
  {
   "cell_type": "code",
   "execution_count": 41,
   "id": "f1d2c257",
   "metadata": {},
   "outputs": [],
   "source": [
    "def sssp(state):\n",
    "    frontier = {state : 0}\n",
    "    known = {}\n",
    "\n",
    "    while len(frontier) > 0:\n",
    "        smallest_f = None\n",
    "        smallest_d = None\n",
    "        #Get smallest frontier thing\n",
    "        for f,d in frontier.items():\n",
    "            if smallest_d is None or d < smallest_d:\n",
    "                smallest_d = d\n",
    "                smallest_f = f\n",
    "\n",
    "        #Pop it out of frontier\n",
    "        frontier.pop(smallest_f)\n",
    "        known[smallest_f] = smallest_d\n",
    "\n",
    "        #Update neighbors\n",
    "        for move in \"^<v>A\":\n",
    "            state_and_output = next_state(smallest_f,move,chain)\n",
    "            if state_and_output is None:\n",
    "                continue\n",
    "            s,o = state_and_output\n",
    "            if s in known:\n",
    "                continue\n",
    "            if s in frontier:\n",
    "                frontier[s] = min(frontier[s],smallest_d+1)\n",
    "            else:\n",
    "                frontier[s] = smallest_d + 1\n",
    "                \n",
    "    return known"
   ]
  },
  {
   "cell_type": "code",
   "execution_count": 45,
   "id": "45779886",
   "metadata": {},
   "outputs": [],
   "source": [
    "shortest_lengths = {}\n",
    "\n",
    "for i,row in enumerate(num_pad):\n",
    "    for j,c in enumerate(row):\n",
    "        if c == \"\":\n",
    "            continue\n",
    "        state = ((0,2),(0,2),(i,j))\n",
    "        #state = ((i,j),)\n",
    "        shortest_lengths[(i,j)] = sssp(state)"
   ]
  },
  {
   "cell_type": "code",
   "execution_count": 46,
   "id": "93857645",
   "metadata": {},
   "outputs": [],
   "source": [
    "def find(button):\n",
    "    for i,row in enumerate(num_pad):\n",
    "            for j,c in enumerate(row):\n",
    "                if c == button:\n",
    "                    return i,j\n",
    "\n",
    "def sp(s):\n",
    "    state = (3,2)\n",
    "    d = 0\n",
    "    for c in s:\n",
    "        new_state = ((0,2),(0,2),find(c))\n",
    "        #new_state = (find(c),)\n",
    "        d += shortest_lengths[state][new_state] + 1\n",
    "        state = new_state[-1]\n",
    "    return d"
   ]
  },
  {
   "cell_type": "code",
   "execution_count": 47,
   "id": "32cd3f6f",
   "metadata": {},
   "outputs": [
    {
     "data": {
      "text/plain": [
       "68"
      ]
     },
     "execution_count": 47,
     "metadata": {},
     "output_type": "execute_result"
    }
   ],
   "source": [
    "sp(\"029A\")"
   ]
  },
  {
   "cell_type": "code",
   "execution_count": 25,
   "id": "f70453b9",
   "metadata": {},
   "outputs": [
    {
     "data": {
      "text/plain": [
       "68"
      ]
     },
     "execution_count": 25,
     "metadata": {},
     "output_type": "execute_result"
    }
   ],
   "source": [
    "len(\"<vA<AA>>^AvAA<^A>A<v<A>>^AvA^A<vA>^A<v<A>^A>AAvA^A<v<A>A>^AAAvA<^A>A\")"
   ]
  },
  {
   "cell_type": "code",
   "execution_count": 26,
   "id": "9ac71de6",
   "metadata": {},
   "outputs": [
    {
     "data": {
      "text/plain": [
       "19"
      ]
     },
     "execution_count": 26,
     "metadata": {},
     "output_type": "execute_result"
    }
   ],
   "source": [
    "sp(\"0\")"
   ]
  },
  {
   "cell_type": "code",
   "execution_count": 50,
   "id": "2db62b53",
   "metadata": {},
   "outputs": [
    {
     "data": {
      "text/plain": [
       "184180"
      ]
     },
     "execution_count": 50,
     "metadata": {},
     "output_type": "execute_result"
    }
   ],
   "source": [
    "t = 0\n",
    "for l in lines:\n",
    "    t += sp(l)*int(l[:-1])\n",
    "t"
   ]
  },
  {
   "cell_type": "code",
   "execution_count": 51,
   "id": "a76afee6",
   "metadata": {},
   "outputs": [
    {
     "data": {
      "text/plain": [
       "298023223876953125"
      ]
     },
     "execution_count": 51,
     "metadata": {},
     "output_type": "execute_result"
    }
   ],
   "source": [
    "5**25"
   ]
  },
  {
   "cell_type": "markdown",
   "id": "b0ee1863",
   "metadata": {},
   "source": [
    "# Part 2"
   ]
  },
  {
   "cell_type": "markdown",
   "id": "0011c8aa",
   "metadata": {},
   "source": [
    "## Greedy but too slow"
   ]
  },
  {
   "cell_type": "code",
   "execution_count": 60,
   "id": "05d3c0b5",
   "metadata": {},
   "outputs": [],
   "source": [
    "def find2(pad,button):\n",
    "    for i,row in enumerate(pad):\n",
    "        for j,c in enumerate(row):\n",
    "            if c == button:\n",
    "                return i,j\n",
    "    print(\"Not found\")"
   ]
  },
  {
   "cell_type": "code",
   "execution_count": 91,
   "id": "9a4584fd",
   "metadata": {},
   "outputs": [],
   "source": [
    "def sign(n):\n",
    "    return 1 if n > 0 else -1\n",
    "\n",
    "def what_i_should_push(chain,desired_output):\n",
    "    if len(chain) == 0: #There are no intervening boards, so I just need to push the buttons\n",
    "        return desired_output\n",
    "    \n",
    "    pad = chain[-1]\n",
    "    i,j = find2(pad,\"A\")\n",
    "    what_this_pad_needs = \"\"\n",
    "    for b in desired_output:\n",
    "        ni,nj = find2(pad,b)\n",
    "        \n",
    "        if j < nj:\n",
    "            hor = \">\"\n",
    "        else:\n",
    "            hor = \"<\"\n",
    "        hors = \"\"\n",
    "        hsign = sign(nj - j)\n",
    "        hfirst = True\n",
    "        for jj in range(abs(nj - j)):\n",
    "            hors += hor\n",
    "            if pad[i][(jj+1)*hsign + j] == \"\":\n",
    "                hfirst = False\n",
    "        \n",
    "        if i < ni:\n",
    "            vert = \"v\"\n",
    "        else:\n",
    "            vert = \"^\"\n",
    "            \n",
    "        verts = \"\"\n",
    "        for ii in range(abs(ni - i)):\n",
    "            verts += vert\n",
    "                    \n",
    "        if hfirst:\n",
    "            what_this_pad_needs += hors\n",
    "            what_this_pad_needs += verts\n",
    "        else:\n",
    "            what_this_pad_needs += verts\n",
    "            what_this_pad_needs += hors\n",
    "\n",
    "        what_this_pad_needs += \"A\"\n",
    "        \n",
    "        i,j = ni,nj\n",
    "            \n",
    "    return what_i_should_push(chain[:-1],what_this_pad_needs)"
   ]
  },
  {
   "cell_type": "code",
   "execution_count": null,
   "id": "575efa90",
   "metadata": {},
   "outputs": [],
   "source": [
    "num_pad = [\n",
    "    [\"7\",\"8\",\"9\"],\n",
    "    [\"4\",\"5\",\"6\"],\n",
    "    [\"1\",\"2\",\"3\"],\n",
    "    [\"\", \"0\",\"A\"]\n",
    "]"
   ]
  },
  {
   "cell_type": "code",
   "execution_count": 87,
   "id": "5971aebb",
   "metadata": {
    "collapsed": true
   },
   "outputs": [
    {
     "name": "stdout",
     "output_type": "stream",
     "text": [
      "(3, 2) (2, 0)\n",
      "(2, 0) (2, 1)\n",
      "(2, 1) (0, 2)\n",
      "(0, 2) (3, 2)\n",
      "(0, 2) (0, 1)\n",
      "(0, 1) (1, 0)\n",
      "(1, 0) (1, 0)\n",
      "(1, 0) (0, 2)\n",
      "(0, 2) (1, 2)\n",
      "(1, 2) (0, 1)\n",
      "(0, 1) (0, 2)\n",
      "(0, 2) (1, 2)\n",
      "(1, 2) (0, 1)\n",
      "(0, 1) (0, 2)\n",
      "(0, 2) (1, 1)\n",
      "(1, 1) (0, 2)\n",
      "(0, 2) (1, 0)\n",
      "(1, 0) (0, 1)\n",
      "(0, 1) (0, 2)\n",
      "(0, 2) (1, 1)\n",
      "(1, 1) (1, 0)\n",
      "(1, 0) (0, 2)\n",
      "(0, 2) (0, 1)\n",
      "(0, 1) (0, 2)\n",
      "(0, 2) (1, 2)\n",
      "(1, 2) (1, 2)\n",
      "(1, 2) (0, 1)\n",
      "(0, 1) (0, 2)\n",
      "(0, 2) (1, 1)\n",
      "(1, 1) (0, 2)\n",
      "(0, 2) (1, 0)\n",
      "(1, 0) (0, 1)\n",
      "(0, 1) (0, 2)\n",
      "(0, 2) (1, 2)\n",
      "(1, 2) (0, 1)\n",
      "(0, 1) (0, 2)\n",
      "(0, 2) (1, 1)\n",
      "(1, 1) (0, 2)\n",
      "(0, 2) (1, 0)\n",
      "(1, 0) (0, 1)\n",
      "(0, 1) (0, 2)\n",
      "(0, 2) (1, 2)\n",
      "(1, 2) (0, 1)\n",
      "(0, 1) (0, 2)\n",
      "(0, 2) (1, 0)\n",
      "(1, 0) (1, 1)\n",
      "(1, 1) (0, 2)\n",
      "(0, 2) (1, 2)\n",
      "(1, 2) (0, 1)\n",
      "(0, 1) (0, 2)\n"
     ]
    },
    {
     "data": {
      "text/plain": [
       "'v<<A>^A>^A<vA<^A>>^A<^A>^AvA^A<^A>^A<vA>^Av<<A>^A>^AvA<^A>^A<vA>^Av<<A>^A>^AvA<^A>^Av<<A>^A>^AvA<^A>^A'"
      ]
     },
     "execution_count": 87,
     "metadata": {},
     "output_type": "execute_result"
    }
   ],
   "source": [
    "what_i_should_push(chain,lines[0])"
   ]
  },
  {
   "cell_type": "code",
   "execution_count": 92,
   "id": "b3715645",
   "metadata": {},
   "outputs": [
    {
     "data": {
      "text/plain": [
       "'<A^A>^^AvvvA'"
      ]
     },
     "execution_count": 92,
     "metadata": {},
     "output_type": "execute_result"
    }
   ],
   "source": [
    "what_i_should_push(chain[-1:],\"029A\")"
   ]
  },
  {
   "cell_type": "code",
   "execution_count": 93,
   "id": "e068a437",
   "metadata": {},
   "outputs": [
    {
     "data": {
      "text/plain": [
       "186508"
      ]
     },
     "execution_count": 93,
     "metadata": {},
     "output_type": "execute_result"
    }
   ],
   "source": [
    "t = 0\n",
    "for l in lines:\n",
    "    t += len(what_i_should_push(chain,l))*int(l[:-1])\n",
    "t"
   ]
  },
  {
   "cell_type": "code",
   "execution_count": 71,
   "id": "5585b4b1",
   "metadata": {},
   "outputs": [
    {
     "data": {
      "text/plain": [
       "185466"
      ]
     },
     "execution_count": 71,
     "metadata": {},
     "output_type": "execute_result"
    }
   ],
   "source": [
    "t = 0\n",
    "for l in lines:\n",
    "    t += len(what_i_should_push(chain,l))*int(l[:-1])\n",
    "t"
   ]
  },
  {
   "cell_type": "code",
   "execution_count": 63,
   "id": "48575ecd",
   "metadata": {},
   "outputs": [
    {
     "name": "stdout",
     "output_type": "stream",
     "text": [
      "> \u001b[1;32mc:\\users\\josh\\appdata\\local\\temp\\ipykernel_30736\\4062241264.py\u001b[0m(9)\u001b[0;36mwhat_i_should_push\u001b[1;34m()\u001b[0m\n",
      "\n",
      "ipdb> pad\n",
      "[['', '^', 'A'], ['<', 'v', '>']]\n",
      "ipdb> print(b)\n",
      "1\n",
      "ipdb> chain\n",
      "[[['', '^', 'A'], ['<', 'v', '>']], [['', '^', 'A'], ['<', 'v', '>']]]\n",
      "ipdb> exit\n"
     ]
    }
   ],
   "source": [
    "%debug"
   ]
  },
  {
   "cell_type": "code",
   "execution_count": 94,
   "id": "83c9af24",
   "metadata": {},
   "outputs": [],
   "source": [
    "thing = {\"a\" : 1, \"b\" : 2}\n"
   ]
  },
  {
   "cell_type": "code",
   "execution_count": 95,
   "id": "97188fc9",
   "metadata": {},
   "outputs": [
    {
     "data": {
      "text/plain": [
       "1"
      ]
     },
     "execution_count": 95,
     "metadata": {},
     "output_type": "execute_result"
    }
   ],
   "source": []
  },
  {
   "cell_type": "code",
   "execution_count": 116,
   "id": "b1e87674",
   "metadata": {},
   "outputs": [],
   "source": [
    "char_to_dir = {\"^\" : (-1,0), \"<\" : (0,-1), \"v\" : (1,0), \">\" : (0,1)}\n",
    "\n",
    "\n",
    "def ss_cost(source,arrow_cost,pad):\n",
    "    state = (\"A\",source)\n",
    "    \n",
    "    frontier = {state : 0}\n",
    "    known = {}\n",
    "    \n",
    "    while len(frontier) > 0:\n",
    "        \n",
    "        d = min(frontier.values())\n",
    "        f = [k for k,v in frontier.items() if v == d][0]\n",
    "        \n",
    "        frontier.pop(f)\n",
    "        known[f] = d\n",
    "        \n",
    "        for b in \"<v>^A\":\n",
    "            if b == \"A\":\n",
    "                new_state = (\"A\",f[1])\n",
    "                new_d = d + arrow_cost[f[0]][b]\n",
    "            else:\n",
    "                i,j = find2(pad,f[1])\n",
    "                di,dj = char_to_dir[b]\n",
    "                ni = i + di\n",
    "                nj = j + dj\n",
    "                if ni < 0 or ni >= len(pad) or nj < 0 or nj >= len(pad[0]) or pad[ni][nj] == \"\":\n",
    "                    continue\n",
    "                new_state = (b,pad[ni][nj])\n",
    "                new_d = d + arrow_cost[f[0]][b] + 1\n",
    "\n",
    "            \n",
    "            if new_state in known:\n",
    "                continue\n",
    "                \n",
    "            if new_state in frontier:\n",
    "                frontier[new_state] = min(frontier[new_state],new_d)\n",
    "            else:\n",
    "                frontier[new_state] = new_d\n",
    "                \n",
    "    to_return = {}\n",
    "    for state in known:\n",
    "        if state[0] == \"A\":\n",
    "            to_return[state[1]] = known[state]\n",
    "            \n",
    "    return to_return\n",
    "            \n",
    "        \n",
    "\n",
    "def get_cost(arrow_cost,pad):\n",
    "    to_return = {}\n",
    "    for row in pad:\n",
    "        for key in row:\n",
    "            if key != \"\":\n",
    "                to_return[key] = ss_cost(key,arrow_cost,pad)\n",
    "    return to_return\n",
    "        \n",
    "    "
   ]
  },
  {
   "cell_type": "code",
   "execution_count": 99,
   "id": "f16ebeb2",
   "metadata": {},
   "outputs": [],
   "source": [
    "buttons = \"<v>^A\"\n",
    "zeros = {key : 0 for key in buttons}\n",
    "typing_cost = {key : zeros for key in buttons}"
   ]
  },
  {
   "cell_type": "code",
   "execution_count": 117,
   "id": "bbe2b1b6",
   "metadata": {},
   "outputs": [
    {
     "data": {
      "text/plain": [
       "{'7': {'7': 0,\n",
       "  '4': 1,\n",
       "  '8': 1,\n",
       "  '1': 2,\n",
       "  '5': 2,\n",
       "  '9': 2,\n",
       "  '2': 3,\n",
       "  '6': 3,\n",
       "  '0': 4,\n",
       "  '3': 4,\n",
       "  'A': 5},\n",
       " '8': {'8': 0,\n",
       "  '7': 1,\n",
       "  '5': 1,\n",
       "  '9': 1,\n",
       "  '4': 2,\n",
       "  '2': 2,\n",
       "  '6': 2,\n",
       "  '1': 3,\n",
       "  '0': 3,\n",
       "  '3': 3,\n",
       "  'A': 4},\n",
       " '9': {'9': 0,\n",
       "  '8': 1,\n",
       "  '6': 1,\n",
       "  '7': 2,\n",
       "  '5': 2,\n",
       "  '3': 2,\n",
       "  '4': 3,\n",
       "  '2': 3,\n",
       "  'A': 3,\n",
       "  '1': 4,\n",
       "  '0': 4},\n",
       " '4': {'4': 0,\n",
       "  '1': 1,\n",
       "  '5': 1,\n",
       "  '7': 1,\n",
       "  '2': 2,\n",
       "  '6': 2,\n",
       "  '8': 2,\n",
       "  '0': 3,\n",
       "  '3': 3,\n",
       "  '9': 3,\n",
       "  'A': 4},\n",
       " '5': {'5': 0,\n",
       "  '4': 1,\n",
       "  '2': 1,\n",
       "  '6': 1,\n",
       "  '8': 1,\n",
       "  '1': 2,\n",
       "  '7': 2,\n",
       "  '0': 2,\n",
       "  '3': 2,\n",
       "  '9': 2,\n",
       "  'A': 3},\n",
       " '6': {'6': 0,\n",
       "  '5': 1,\n",
       "  '3': 1,\n",
       "  '9': 1,\n",
       "  '4': 2,\n",
       "  '2': 2,\n",
       "  '8': 2,\n",
       "  'A': 2,\n",
       "  '1': 3,\n",
       "  '7': 3,\n",
       "  '0': 3},\n",
       " '1': {'1': 0,\n",
       "  '2': 1,\n",
       "  '4': 1,\n",
       "  '0': 2,\n",
       "  '3': 2,\n",
       "  '5': 2,\n",
       "  '7': 2,\n",
       "  'A': 3,\n",
       "  '6': 3,\n",
       "  '8': 3,\n",
       "  '9': 4},\n",
       " '2': {'2': 0,\n",
       "  '1': 1,\n",
       "  '0': 1,\n",
       "  '3': 1,\n",
       "  '5': 1,\n",
       "  '4': 2,\n",
       "  'A': 2,\n",
       "  '6': 2,\n",
       "  '8': 2,\n",
       "  '7': 3,\n",
       "  '9': 3},\n",
       " '3': {'3': 0,\n",
       "  '2': 1,\n",
       "  'A': 1,\n",
       "  '6': 1,\n",
       "  '1': 2,\n",
       "  '0': 2,\n",
       "  '5': 2,\n",
       "  '9': 2,\n",
       "  '4': 3,\n",
       "  '8': 3,\n",
       "  '7': 4},\n",
       " '0': {'0': 0,\n",
       "  'A': 1,\n",
       "  '2': 1,\n",
       "  '3': 2,\n",
       "  '1': 2,\n",
       "  '5': 2,\n",
       "  '6': 3,\n",
       "  '4': 3,\n",
       "  '8': 3,\n",
       "  '9': 4,\n",
       "  '7': 4},\n",
       " 'A': {'A': 0,\n",
       "  '0': 1,\n",
       "  '3': 1,\n",
       "  '2': 2,\n",
       "  '6': 2,\n",
       "  '1': 3,\n",
       "  '5': 3,\n",
       "  '9': 3,\n",
       "  '4': 4,\n",
       "  '8': 4,\n",
       "  '7': 5}}"
      ]
     },
     "execution_count": 117,
     "metadata": {},
     "output_type": "execute_result"
    }
   ],
   "source": [
    "get_cost(typing_cost,)"
   ]
  },
  {
   "cell_type": "code",
   "execution_count": null,
   "id": "9ef39bee",
   "metadata": {},
   "outputs": [],
   "source": [
    "#     +---+---+\n",
    "#     | ^ | A |\n",
    "# +---+---+---+\n",
    "# | < | v | > |\n",
    "# +---+---+---+\n"
   ]
  },
  {
   "cell_type": "code",
   "execution_count": 122,
   "id": "944c404e",
   "metadata": {},
   "outputs": [],
   "source": [
    "part_1_cost = get_cost(get_cost(get_cost(typing_cost,dir_pad),dir_pad),num_pad)"
   ]
  },
  {
   "cell_type": "code",
   "execution_count": 125,
   "id": "e69b9483",
   "metadata": {},
   "outputs": [
    {
     "data": {
      "text/plain": [
       "68"
      ]
     },
     "execution_count": 125,
     "metadata": {},
     "output_type": "execute_result"
    }
   ],
   "source": [
    "button = \"A\"\n",
    "t = 0\n",
    "for c in \"029A\":\n",
    "    t += part_1_cost[button][c] + 1\n",
    "    button = c\n",
    "t"
   ]
  },
  {
   "cell_type": "code",
   "execution_count": 126,
   "id": "ba1349fe",
   "metadata": {},
   "outputs": [],
   "source": [
    "part_2_cost = get_cost(typing_cost,dir_pad) #One robot\n",
    "for i in range(24):\n",
    "    part_2_cost = get_cost(part_2_cost,dir_pad)\n",
    "part_2_cost = get_cost(part_2_cost,num_pad)"
   ]
  },
  {
   "cell_type": "code",
   "execution_count": 127,
   "id": "349117f4",
   "metadata": {},
   "outputs": [],
   "source": [
    "def s_cost(s,cost_function):\n",
    "    button = \"A\"\n",
    "    t = 0\n",
    "    for c in s:\n",
    "        t += cost_function[button][c] + 1\n",
    "        button = c\n",
    "    return t"
   ]
  },
  {
   "cell_type": "code",
   "execution_count": 129,
   "id": "513b2509",
   "metadata": {},
   "outputs": [
    {
     "data": {
      "text/plain": [
       "82050061710"
      ]
     },
     "execution_count": 129,
     "metadata": {},
     "output_type": "execute_result"
    }
   ],
   "source": [
    "s_cost(\"029A\",part_2_cost)"
   ]
  },
  {
   "cell_type": "code",
   "execution_count": 130,
   "id": "88e60df1",
   "metadata": {},
   "outputs": [
    {
     "data": {
      "text/plain": [
       "231309103124520"
      ]
     },
     "execution_count": 130,
     "metadata": {},
     "output_type": "execute_result"
    }
   ],
   "source": [
    "t = 0\n",
    "for l in lines:\n",
    "    t += s_cost(l,part_2_cost)*int(l[:-1])\n",
    "t"
   ]
  },
  {
   "cell_type": "code",
   "execution_count": null,
   "id": "e4a82ac4",
   "metadata": {},
   "outputs": [],
   "source": []
  }
 ],
 "metadata": {
  "kernelspec": {
   "display_name": "Python 3 (ipykernel)",
   "language": "python",
   "name": "python3"
  },
  "language_info": {
   "codemirror_mode": {
    "name": "ipython",
    "version": 3
   },
   "file_extension": ".py",
   "mimetype": "text/x-python",
   "name": "python",
   "nbconvert_exporter": "python",
   "pygments_lexer": "ipython3",
   "version": "3.8.4"
  }
 },
 "nbformat": 4,
 "nbformat_minor": 5
}
