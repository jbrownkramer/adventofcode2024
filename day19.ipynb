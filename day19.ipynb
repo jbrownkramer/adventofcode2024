{
 "cells": [
  {
   "cell_type": "code",
   "execution_count": 2,
   "id": "d9eaa1bb",
   "metadata": {},
   "outputs": [],
   "source": [
    "import re"
   ]
  },
  {
   "cell_type": "code",
   "execution_count": 3,
   "id": "72071146",
   "metadata": {},
   "outputs": [],
   "source": [
    "with open(\"19.in\") as f:\n",
    "    d = f.read()\n",
    "lines = d.split(\"\\n\")\n",
    "\n",
    "towels = lines[0].split(\", \")\n",
    "\n",
    "patterns = lines[2:]"
   ]
  },
  {
   "cell_type": "code",
   "execution_count": 6,
   "id": "2a4b665b",
   "metadata": {},
   "outputs": [],
   "source": [
    "reg_exp = f\"^({'|'.join(towels)})*$\""
   ]
  },
  {
   "cell_type": "code",
   "execution_count": null,
   "id": "39fac17b",
   "metadata": {},
   "outputs": [],
   "source": [
    "re.match(reg_exp,patterns[0])"
   ]
  },
  {
   "cell_type": "code",
   "execution_count": 7,
   "id": "8a464f2e",
   "metadata": {},
   "outputs": [],
   "source": [
    "po = re.compile(reg_exp)"
   ]
  },
  {
   "cell_type": "code",
   "execution_count": null,
   "id": "a3437b89",
   "metadata": {},
   "outputs": [],
   "source": [
    "po.fullmatch(lines[2])"
   ]
  },
  {
   "cell_type": "code",
   "execution_count": 10,
   "id": "f74bc0a8",
   "metadata": {},
   "outputs": [],
   "source": [
    "best = \"\"\n",
    "\n",
    "def matches(pattern,towels):\n",
    "    global best\n",
    "    if len(patterns[0]) - len(pattern) > len(best):\n",
    "        best = patterns[0][:-len(pattern)]\n",
    "        print(best)\n",
    "    \n",
    "    if len(pattern) == 0:\n",
    "        return True\n",
    "    \n",
    "    for t in towels:\n",
    "        if pattern.startswith(t):\n",
    "            if matches(pattern[len(t):],towels):\n",
    "                return True\n",
    "            \n",
    "    return False"
   ]
  },
  {
   "cell_type": "code",
   "execution_count": 11,
   "id": "80738918",
   "metadata": {
    "scrolled": true
   },
   "outputs": [
    {
     "name": "stdout",
     "output_type": "stream",
     "text": [
      "b\n",
      "brb\n",
      "brbgbr\n",
      "brbgbrurbgb\n",
      "brbgbrurbgbgbr\n",
      "brbgbrurbgbgbrwwg\n",
      "brbgbrurbgbgbrwwggwu\n",
      "brbgbrurbgbgbrwwggwuuw\n",
      "brbgbrurbgbgbrwwggwuuwwbrb\n",
      "brbgbrurbgbgbrwwggwuuwwbrbwuu\n",
      "brbgbrurbgbgbrwwggwuuwwbrbwuuw\n",
      "brbgbrurbgbgbrwwggwuuwwbrbwuuwuwwug\n",
      "brbgbrurbgbgbrwwggwuuwwbrbwuuwuwwugbubw\n",
      "brbgbrurbgbgbrwwggwuuwwbrbwuuwuwwugbubwuw\n",
      "brbgbrurbgbgbrwwggwuuwwbrbwuuwuwwugbubwuww\n",
      "brbgbrurbgbgbrwwggwuuwwbrbwuuwuwwugbubwuwwuru\n",
      "brbgbrurbgbgbrwwggwuuwwbrbwuuwuwwugbubwuwwuruw\n",
      "brbgbrurbgbgbrwwggwuuwwbrbwuuwuwwugbubwuwwuruwubu\n",
      "brbgbrurbgbgbrwwggwuuwwbrbwuuwuwwugbubwuwwuruwuburb\n",
      "brbgbrurbgbgbrwwggwuuwwbrbwuuwuwwugbubwuwwuruwuburbwuu\n"
     ]
    },
    {
     "ename": "KeyboardInterrupt",
     "evalue": "",
     "output_type": "error",
     "traceback": [
      "\u001b[1;31m---------------------------------------------------------------------------\u001b[0m",
      "\u001b[1;31mKeyboardInterrupt\u001b[0m                         Traceback (most recent call last)",
      "Input \u001b[1;32mIn [11]\u001b[0m, in \u001b[0;36m<cell line: 1>\u001b[1;34m()\u001b[0m\n\u001b[1;32m----> 1\u001b[0m \u001b[43mmatches\u001b[49m\u001b[43m(\u001b[49m\u001b[43mpatterns\u001b[49m\u001b[43m[\u001b[49m\u001b[38;5;241;43m0\u001b[39;49m\u001b[43m]\u001b[49m\u001b[43m,\u001b[49m\u001b[43mtowels\u001b[49m\u001b[43m)\u001b[49m\n",
      "Input \u001b[1;32mIn [10]\u001b[0m, in \u001b[0;36mmatches\u001b[1;34m(pattern, towels)\u001b[0m\n\u001b[0;32m     12\u001b[0m \u001b[38;5;28;01mfor\u001b[39;00m t \u001b[38;5;129;01min\u001b[39;00m towels:\n\u001b[0;32m     13\u001b[0m     \u001b[38;5;28;01mif\u001b[39;00m pattern\u001b[38;5;241m.\u001b[39mstartswith(t):\n\u001b[1;32m---> 14\u001b[0m         \u001b[38;5;28;01mif\u001b[39;00m \u001b[43mmatches\u001b[49m\u001b[43m(\u001b[49m\u001b[43mpattern\u001b[49m\u001b[43m[\u001b[49m\u001b[38;5;28;43mlen\u001b[39;49m\u001b[43m(\u001b[49m\u001b[43mt\u001b[49m\u001b[43m)\u001b[49m\u001b[43m:\u001b[49m\u001b[43m]\u001b[49m\u001b[43m,\u001b[49m\u001b[43mtowels\u001b[49m\u001b[43m)\u001b[49m:\n\u001b[0;32m     15\u001b[0m             \u001b[38;5;28;01mreturn\u001b[39;00m \u001b[38;5;28;01mTrue\u001b[39;00m\n\u001b[0;32m     17\u001b[0m \u001b[38;5;28;01mreturn\u001b[39;00m \u001b[38;5;28;01mFalse\u001b[39;00m\n",
      "Input \u001b[1;32mIn [10]\u001b[0m, in \u001b[0;36mmatches\u001b[1;34m(pattern, towels)\u001b[0m\n\u001b[0;32m     12\u001b[0m \u001b[38;5;28;01mfor\u001b[39;00m t \u001b[38;5;129;01min\u001b[39;00m towels:\n\u001b[0;32m     13\u001b[0m     \u001b[38;5;28;01mif\u001b[39;00m pattern\u001b[38;5;241m.\u001b[39mstartswith(t):\n\u001b[1;32m---> 14\u001b[0m         \u001b[38;5;28;01mif\u001b[39;00m \u001b[43mmatches\u001b[49m\u001b[43m(\u001b[49m\u001b[43mpattern\u001b[49m\u001b[43m[\u001b[49m\u001b[38;5;28;43mlen\u001b[39;49m\u001b[43m(\u001b[49m\u001b[43mt\u001b[49m\u001b[43m)\u001b[49m\u001b[43m:\u001b[49m\u001b[43m]\u001b[49m\u001b[43m,\u001b[49m\u001b[43mtowels\u001b[49m\u001b[43m)\u001b[49m:\n\u001b[0;32m     15\u001b[0m             \u001b[38;5;28;01mreturn\u001b[39;00m \u001b[38;5;28;01mTrue\u001b[39;00m\n\u001b[0;32m     17\u001b[0m \u001b[38;5;28;01mreturn\u001b[39;00m \u001b[38;5;28;01mFalse\u001b[39;00m\n",
      "    \u001b[1;31m[... skipping similar frames: matches at line 14 (24 times)]\u001b[0m\n",
      "Input \u001b[1;32mIn [10]\u001b[0m, in \u001b[0;36mmatches\u001b[1;34m(pattern, towels)\u001b[0m\n\u001b[0;32m     12\u001b[0m \u001b[38;5;28;01mfor\u001b[39;00m t \u001b[38;5;129;01min\u001b[39;00m towels:\n\u001b[0;32m     13\u001b[0m     \u001b[38;5;28;01mif\u001b[39;00m pattern\u001b[38;5;241m.\u001b[39mstartswith(t):\n\u001b[1;32m---> 14\u001b[0m         \u001b[38;5;28;01mif\u001b[39;00m \u001b[43mmatches\u001b[49m\u001b[43m(\u001b[49m\u001b[43mpattern\u001b[49m\u001b[43m[\u001b[49m\u001b[38;5;28;43mlen\u001b[39;49m\u001b[43m(\u001b[49m\u001b[43mt\u001b[49m\u001b[43m)\u001b[49m\u001b[43m:\u001b[49m\u001b[43m]\u001b[49m\u001b[43m,\u001b[49m\u001b[43mtowels\u001b[49m\u001b[43m)\u001b[49m:\n\u001b[0;32m     15\u001b[0m             \u001b[38;5;28;01mreturn\u001b[39;00m \u001b[38;5;28;01mTrue\u001b[39;00m\n\u001b[0;32m     17\u001b[0m \u001b[38;5;28;01mreturn\u001b[39;00m \u001b[38;5;28;01mFalse\u001b[39;00m\n",
      "Input \u001b[1;32mIn [10]\u001b[0m, in \u001b[0;36mmatches\u001b[1;34m(pattern, towels)\u001b[0m\n\u001b[0;32m     10\u001b[0m     \u001b[38;5;28;01mreturn\u001b[39;00m \u001b[38;5;28;01mTrue\u001b[39;00m\n\u001b[0;32m     12\u001b[0m \u001b[38;5;28;01mfor\u001b[39;00m t \u001b[38;5;129;01min\u001b[39;00m towels:\n\u001b[1;32m---> 13\u001b[0m     \u001b[38;5;28;01mif\u001b[39;00m \u001b[43mpattern\u001b[49m\u001b[38;5;241;43m.\u001b[39;49m\u001b[43mstartswith\u001b[49m\u001b[43m(\u001b[49m\u001b[43mt\u001b[49m\u001b[43m)\u001b[49m:\n\u001b[0;32m     14\u001b[0m         \u001b[38;5;28;01mif\u001b[39;00m matches(pattern[\u001b[38;5;28mlen\u001b[39m(t):],towels):\n\u001b[0;32m     15\u001b[0m             \u001b[38;5;28;01mreturn\u001b[39;00m \u001b[38;5;28;01mTrue\u001b[39;00m\n",
      "\u001b[1;31mKeyboardInterrupt\u001b[0m: "
     ]
    }
   ],
   "source": [
    "matches(patterns[0],towels)"
   ]
  },
  {
   "cell_type": "code",
   "execution_count": 13,
   "id": "daf9ca28",
   "metadata": {},
   "outputs": [
    {
     "data": {
      "text/plain": [
       "{'b', 'g', 'r', 'u', 'w'}"
      ]
     },
     "execution_count": 13,
     "metadata": {},
     "output_type": "execute_result"
    }
   ],
   "source": [
    "chars = set()\n",
    "for t in towels:\n",
    "    for c in t:\n",
    "        chars.add(c)\n",
    "chars"
   ]
  },
  {
   "cell_type": "code",
   "execution_count": 14,
   "id": "4de20a1e",
   "metadata": {},
   "outputs": [],
   "source": [
    "def to_nums(s):\n",
    "    chars = ['b', 'g', 'r', 'u', 'w']\n",
    "    return [chars.index(c) for c in s]\n",
    "        "
   ]
  },
  {
   "cell_type": "code",
   "execution_count": 16,
   "id": "eb78c12f",
   "metadata": {},
   "outputs": [
    {
     "data": {
      "text/plain": [
       "[0, 2, 0, 1, 0, 2, 3, 2, 0, 1, 0, 1, 0, 2, 4, 4, 1, 1, 4, 3]"
      ]
     },
     "execution_count": 16,
     "metadata": {},
     "output_type": "execute_result"
    }
   ],
   "source": [
    "to_nums(\"brbgbrurbgbgbrwwggwu\")"
   ]
  },
  {
   "cell_type": "code",
   "execution_count": null,
   "id": "87b5d03d",
   "metadata": {},
   "outputs": [],
   "source": [
    "tree = {\"towels\" : [], \"children\" = None}\n",
    "\n",
    "for t in towels:\n",
    "    nums = to_nums(t)\n",
    "    local_tree = tree\n",
    "    for n in nums:\n",
    "        if tree[\"children\"] is None:\n",
    "            tree[\"children\"] = {\"towels\" : [], \"children\" = None}\n",
    "        \n",
    "        "
   ]
  }
 ],
 "metadata": {
  "kernelspec": {
   "display_name": "Python 3 (ipykernel)",
   "language": "python",
   "name": "python3"
  },
  "language_info": {
   "codemirror_mode": {
    "name": "ipython",
    "version": 3
   },
   "file_extension": ".py",
   "mimetype": "text/x-python",
   "name": "python",
   "nbconvert_exporter": "python",
   "pygments_lexer": "ipython3",
   "version": "3.8.4"
  }
 },
 "nbformat": 4,
 "nbformat_minor": 5
}
