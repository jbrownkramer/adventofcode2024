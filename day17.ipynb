{
 "cells": [
  {
   "cell_type": "code",
   "execution_count": 3,
   "id": "cb7f2bb7",
   "metadata": {},
   "outputs": [],
   "source": [
    "import time"
   ]
  },
  {
   "cell_type": "code",
   "execution_count": 4,
   "id": "7dcc6e44-95ff-4c50-b6fb-cba1371d59aa",
   "metadata": {},
   "outputs": [],
   "source": []
  },
  {
   "cell_type": "markdown",
   "id": "44151fef-9e76-4122-a000-883bf213a4c9",
   "metadata": {},
   "source": [
    "- Combo operands 0 through 3 represent literal values 0 through 3.\n",
    "- Combo operand 4 represents the value of register A.\n",
    "- Combo operand 5 represents the value of register B.\n",
    "- Combo operand 6 represents the value of register C.\n",
    "- Combo operand 7 is reserved and will not appear in valid programs."
   ]
  },
  {
   "cell_type": "code",
   "execution_count": 5,
   "id": "b3a5184b-52cc-419e-8849-8e9ec278d8fa",
   "metadata": {},
   "outputs": [],
   "source": [
    "def combo(o):\n",
    "    if o < 4:\n",
    "        return o\n",
    "\n",
    "    return r[o - 4]"
   ]
  },
  {
   "cell_type": "markdown",
   "id": "992ba031-42c9-4b47-8b78-4f5bf0d21f25",
   "metadata": {},
   "source": [
    "    The adv instruction (opcode 0) performs division. The numerator is the value in the A register. The denominator is found by raising 2 to the power of the instruction's combo operand. (So, an operand of 2 would divide A by 4 (2^2); an operand of 5 would divide A by 2^B.) The result of the division operation is truncated to an integer and then written to the A register."
   ]
  },
  {
   "cell_type": "code",
   "execution_count": 6,
   "id": "71602c07-c05d-43a4-a3b1-0ffd2da6ce1e",
   "metadata": {},
   "outputs": [],
   "source": [
    "def adv():\n",
    "    n = r[0]\n",
    "    d = combo(code[p+1])\n",
    "\n",
    "    r[0] = n >> d"
   ]
  },
  {
   "cell_type": "markdown",
   "id": "1a504953-5476-4e1a-a77a-fecfe95374e9",
   "metadata": {},
   "source": [
    "The bxl instruction (opcode 1) calculates the bitwise XOR of register B and the instruction's literal operand, then stores the result in register B."
   ]
  },
  {
   "cell_type": "code",
   "execution_count": 7,
   "id": "c45fa885-3154-4503-bad7-6908ee7d00d2",
   "metadata": {},
   "outputs": [],
   "source": [
    "def bxl():\n",
    "    r[1] = r[1] ^ code[p+1]"
   ]
  },
  {
   "cell_type": "markdown",
   "id": "2fb6269c-6daa-4446-9b62-de0b3842aeee",
   "metadata": {},
   "source": [
    "The bst instruction (opcode 2) calculates the value of its combo operand modulo 8 (thereby keeping only its lowest 3 bits), then writes that value to the B register."
   ]
  },
  {
   "cell_type": "code",
   "execution_count": 8,
   "id": "f117102a-c8f7-45a6-9a22-76582e2e7645",
   "metadata": {},
   "outputs": [],
   "source": [
    "def bst():\n",
    "    r[1] = combo(code[p+1]) % 8"
   ]
  },
  {
   "cell_type": "markdown",
   "id": "49828a5d-32b2-4a55-900a-05464b90c3e4",
   "metadata": {},
   "source": [
    "The jnz instruction (opcode 3) does nothing if the A register is 0. However, if the A register is not zero, it jumps by setting the instruction pointer to the value of its literal operand; if this instruction jumps, the instruction pointer is not increased by 2 after this instruction."
   ]
  },
  {
   "cell_type": "code",
   "execution_count": 16,
   "id": "89a3e28f-6937-49f7-ab5e-79a09be8c297",
   "metadata": {},
   "outputs": [],
   "source": [
    "def jnz():\n",
    "    global p\n",
    "    if r[0] != 0:\n",
    "        p = code[p+1] - 2"
   ]
  },
  {
   "cell_type": "markdown",
   "id": "7768d60e-b556-4a73-b8f6-73f68d61db62",
   "metadata": {},
   "source": [
    "The bxc instruction (opcode 4) calculates the bitwise XOR of register B and register C, then stores the result in register B. (For legacy reasons, this instruction reads an operand but ignores it.)"
   ]
  },
  {
   "cell_type": "code",
   "execution_count": 10,
   "id": "be3cf246-ae03-4265-a37e-fe9d90fec983",
   "metadata": {},
   "outputs": [],
   "source": [
    "def bxc():\n",
    "    r[1] = r[1] ^ r[2]"
   ]
  },
  {
   "cell_type": "markdown",
   "id": "407e93d3-f128-4f51-8aa6-d29721840961",
   "metadata": {},
   "source": [
    "The out instruction (opcode 5) calculates the value of its combo operand modulo 8, then outputs that value. (If a program outputs multiple values, they are separated by commas.)"
   ]
  },
  {
   "cell_type": "code",
   "execution_count": 11,
   "id": "8e05e0a2-074e-4859-bed6-409c33193ce2",
   "metadata": {},
   "outputs": [],
   "source": [
    "def out():\n",
    "    print(combo(code[p+1]) % 8,end=\",\")"
   ]
  },
  {
   "cell_type": "markdown",
   "id": "43dcc612-1504-42e8-af2f-f399f3d53931",
   "metadata": {},
   "source": [
    "The bdv instruction (opcode 6) works exactly like the adv instruction except that the result is stored in the B register. (The numerator is still read from the A register.)"
   ]
  },
  {
   "cell_type": "code",
   "execution_count": 12,
   "id": "a5ca034a-4c47-478f-b2a6-646dc0fa147f",
   "metadata": {},
   "outputs": [],
   "source": [
    "def bdv():\n",
    "    n = r[0]\n",
    "    d = combo(code[p+1])\n",
    "\n",
    "    r[1] = n >> d"
   ]
  },
  {
   "cell_type": "markdown",
   "id": "4dfdef30-d389-4a2c-b601-d61e361f31b3",
   "metadata": {},
   "source": [
    "The cdv instruction (opcode 7) works exactly like the adv instruction except that the result is stored in the C register. (The numerator is still read from the A register.)"
   ]
  },
  {
   "cell_type": "code",
   "execution_count": 13,
   "id": "8e725312-a137-4b7d-a320-3edbb8ff58e6",
   "metadata": {},
   "outputs": [],
   "source": [
    "def cdv():\n",
    "    n = r[0]\n",
    "    d = combo(code[p+1])\n",
    "\n",
    "    r[2] = n >> d"
   ]
  },
  {
   "cell_type": "code",
   "execution_count": 18,
   "id": "ada25c3f-df68-487c-8997-1e495d03b930",
   "metadata": {},
   "outputs": [],
   "source": [
    "ops = [adv,bxl,bst,jnz,bxc,out,bdv,cdv]"
   ]
  },
  {
   "cell_type": "code",
   "execution_count": 20,
   "id": "afe89c3e-24a1-4af5-84d9-568f5c856816",
   "metadata": {},
   "outputs": [
    {
     "name": "stdout",
     "output_type": "stream",
     "text": [
      "2,1,0,1,7,2,5,0,3,"
     ]
    }
   ],
   "source": [
    "r = [52042868,0,0]\n",
    "\n",
    "code = [2,4,1,7,7,5,0,3,4,4,1,7,5,5,3,0]\n",
    "p = 0\n",
    "\n",
    "while p < len(code):\n",
    "    ops[code[p]]()\n",
    "    #time.sleep(1)\n",
    "    p += 2"
   ]
  },
  {
   "cell_type": "code",
   "execution_count": 23,
   "id": "83059270",
   "metadata": {},
   "outputs": [
    {
     "name": "stdout",
     "output_type": "stream",
     "text": [
      "bst,4,bxl,7,cdv,5,adv,3,bxc,4,bxl,7,out,5,jnz,0,"
     ]
    }
   ],
   "source": [
    "for i in range(0,len(code),2):\n",
    "    print(ops[code[i]].__name__ + \",\" + str(code[i + 1]) +\",\",end=\"\")"
   ]
  },
  {
   "cell_type": "code",
   "execution_count": 24,
   "id": "58382810",
   "metadata": {},
   "outputs": [
    {
     "ename": "SyntaxError",
     "evalue": "invalid syntax (2221935705.py, line 1)",
     "output_type": "error",
     "traceback": [
      "\u001b[1;36m  Input \u001b[1;32mIn [24]\u001b[1;36m\u001b[0m\n\u001b[1;33m    a = ?\u001b[0m\n\u001b[1;37m        ^\u001b[0m\n\u001b[1;31mSyntaxError\u001b[0m\u001b[1;31m:\u001b[0m invalid syntax\n"
     ]
    }
   ],
   "source": [
    "a = a // 8\n",
    "b = (a ^ 7 \n",
    "c = 0"
   ]
  },
  {
   "cell_type": "code",
   "execution_count": 47,
   "id": "23d0d3b6",
   "metadata": {},
   "outputs": [
    {
     "name": "stdout",
     "output_type": "stream",
     "text": [
      "2\n",
      "4\n",
      "1\n",
      "7\n",
      "7\n",
      "5\n",
      "0\n",
      "3\n",
      "4\n",
      "4\n",
      "1\n",
      "7\n",
      "5\n",
      "5\n",
      "3\n",
      "0\n"
     ]
    }
   ],
   "source": [
    "#Reinterpreting\n",
    "a = 267265166222235\n",
    "while a > 0:\n",
    "    b = a % 8\n",
    "    b = b ^ 7\n",
    "    c = a // (2**b)\n",
    "    a = a // 8\n",
    "    b = b ^ c\n",
    "    b = b ^ 7\n",
    "    print(b % 8)"
   ]
  },
  {
   "cell_type": "code",
   "execution_count": 36,
   "id": "01eccedd",
   "metadata": {},
   "outputs": [
    {
     "name": "stdout",
     "output_type": "stream",
     "text": [
      "0 1 1\n",
      "2 2\n",
      "3 3\n",
      "4 4\n",
      "5 4\n",
      "6 5\n",
      "7 0\n"
     ]
    }
   ],
   "source": [
    "for a in range(8):\n",
    "    print(a,end=\" \")\n",
    "    while a > 0:\n",
    "        b = a % 8\n",
    "        b = b ^ 7\n",
    "        c = a // (2**b)\n",
    "        a = a // 8\n",
    "        b = b ^ c\n",
    "        b = b ^ 7\n",
    "        print(b % 8)"
   ]
  },
  {
   "cell_type": "code",
   "execution_count": 45,
   "id": "55f7d6f6",
   "metadata": {},
   "outputs": [],
   "source": [
    "def working_a_values(code):\n",
    "    if len(code) == 0:\n",
    "        to_return = 0\n",
    "        while True:\n",
    "            yield to_return\n",
    "            to_return += 1\n",
    "    \n",
    "    smaller_a = working_a_values(code[1:])\n",
    "    for a_prime in smaller_a:\n",
    "        for d in range(8):\n",
    "            a = 8*a_prime + d\n",
    "            b = d\n",
    "            b = b ^ 7\n",
    "            c = a >> b\n",
    "            #a = a // 8\n",
    "            b = b ^ c\n",
    "            b = b ^ 7\n",
    "            \n",
    "            if b % 8 == code[0]:\n",
    "                yield a\n",
    "    \n",
    "    "
   ]
  },
  {
   "cell_type": "code",
   "execution_count": 46,
   "id": "5e72ef05",
   "metadata": {},
   "outputs": [
    {
     "data": {
      "text/plain": [
       "267265166222235"
      ]
     },
     "execution_count": 46,
     "metadata": {},
     "output_type": "execute_result"
    }
   ],
   "source": [
    "next(working_a_values([2,4,1,7,7,5,0,3,4,4,1,7,5,5,3,0]))"
   ]
  },
  {
   "cell_type": "code",
   "execution_count": 25,
   "id": "1ebce1d6",
   "metadata": {},
   "outputs": [
    {
     "data": {
      "text/plain": [
       "3"
      ]
     },
     "execution_count": 25,
     "metadata": {},
     "output_type": "execute_result"
    }
   ],
   "source": [
    "[2,4,1,7,7,5,0,3,4,4,1,7,5,5,3,0]"
   ]
  },
  {
   "cell_type": "code",
   "execution_count": null,
   "id": "1f8fd304",
   "metadata": {},
   "outputs": [],
   "source": [
    "#b ^ c == 010\n"
   ]
  },
  {
   "cell_type": "code",
   "execution_count": 33,
   "id": "81e4b5f9",
   "metadata": {},
   "outputs": [],
   "source": [
    "def binary(n):\n",
    "    return str((n//4)%2) + str((n//2)%2) + str(n%2) "
   ]
  },
  {
   "cell_type": "code",
   "execution_count": 35,
   "id": "68a9fe96",
   "metadata": {},
   "outputs": [
    {
     "name": "stdout",
     "output_type": "stream",
     "text": [
      "0 000\n",
      "1 001\n",
      "2 010\n",
      "3 011\n",
      "4 100\n",
      "5 101\n",
      "6 110\n",
      "7 111\n"
     ]
    }
   ],
   "source": [
    "for i in range(8):\n",
    "    print(i,binary(i))"
   ]
  },
  {
   "cell_type": "code",
   "execution_count": null,
   "id": "cd8063f0",
   "metadata": {},
   "outputs": [],
   "source": []
  }
 ],
 "metadata": {
  "kernelspec": {
   "display_name": "Python 3 (ipykernel)",
   "language": "python",
   "name": "python3"
  },
  "language_info": {
   "codemirror_mode": {
    "name": "ipython",
    "version": 3
   },
   "file_extension": ".py",
   "mimetype": "text/x-python",
   "name": "python",
   "nbconvert_exporter": "python",
   "pygments_lexer": "ipython3",
   "version": "3.8.4"
  }
 },
 "nbformat": 4,
 "nbformat_minor": 5
}
