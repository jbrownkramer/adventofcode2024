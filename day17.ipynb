{
 "cells": [
  {
   "cell_type": "code",
   "execution_count": 1,
   "id": "7dcc6e44-95ff-4c50-b6fb-cba1371d59aa",
   "metadata": {},
   "outputs": [],
   "source": [
    "r = [52042868,0,0]\n",
    "\n",
    "code = [2,4,1,7,7,5,0,3,4,4,1,7,5,5,3,0]\n",
    "p = 0"
   ]
  },
  {
   "cell_type": "markdown",
   "id": "44151fef-9e76-4122-a000-883bf213a4c9",
   "metadata": {},
   "source": [
    "- Combo operands 0 through 3 represent literal values 0 through 3.\n",
    "- Combo operand 4 represents the value of register A.\n",
    "- Combo operand 5 represents the value of register B.\n",
    "- Combo operand 6 represents the value of register C.\n",
    "- Combo operand 7 is reserved and will not appear in valid programs."
   ]
  },
  {
   "cell_type": "code",
   "execution_count": 3,
   "id": "b3a5184b-52cc-419e-8849-8e9ec278d8fa",
   "metadata": {},
   "outputs": [],
   "source": [
    "def combo(o):\n",
    "    if o < 4:\n",
    "        return o\n",
    "\n",
    "    return r[o - 4]"
   ]
  },
  {
   "cell_type": "markdown",
   "id": "992ba031-42c9-4b47-8b78-4f5bf0d21f25",
   "metadata": {},
   "source": [
    "    The adv instruction (opcode 0) performs division. The numerator is the value in the A register. The denominator is found by raising 2 to the power of the instruction's combo operand. (So, an operand of 2 would divide A by 4 (2^2); an operand of 5 would divide A by 2^B.) The result of the division operation is truncated to an integer and then written to the A register."
   ]
  },
  {
   "cell_type": "code",
   "execution_count": 5,
   "id": "71602c07-c05d-43a4-a3b1-0ffd2da6ce1e",
   "metadata": {},
   "outputs": [],
   "source": [
    "def adv():\n",
    "    n = r[0]\n",
    "    d = combo(code[p+1])\n",
    "\n",
    "    r[0] = n >> d"
   ]
  },
  {
   "cell_type": "markdown",
   "id": "1a504953-5476-4e1a-a77a-fecfe95374e9",
   "metadata": {},
   "source": [
    "The bxl instruction (opcode 1) calculates the bitwise XOR of register B and the instruction's literal operand, then stores the result in register B."
   ]
  },
  {
   "cell_type": "code",
   "execution_count": 9,
   "id": "c45fa885-3154-4503-bad7-6908ee7d00d2",
   "metadata": {},
   "outputs": [],
   "source": [
    "def bxl():\n",
    "    r[1] = r[1] ^ code[p+1]"
   ]
  },
  {
   "cell_type": "markdown",
   "id": "2fb6269c-6daa-4446-9b62-de0b3842aeee",
   "metadata": {},
   "source": [
    "The bst instruction (opcode 2) calculates the value of its combo operand modulo 8 (thereby keeping only its lowest 3 bits), then writes that value to the B register."
   ]
  },
  {
   "cell_type": "code",
   "execution_count": 10,
   "id": "f117102a-c8f7-45a6-9a22-76582e2e7645",
   "metadata": {},
   "outputs": [],
   "source": [
    "def bst():\n",
    "    r[1] = combo(code[p+1]) % 8"
   ]
  },
  {
   "cell_type": "markdown",
   "id": "49828a5d-32b2-4a55-900a-05464b90c3e4",
   "metadata": {},
   "source": [
    "The jnz instruction (opcode 3) does nothing if the A register is 0. However, if the A register is not zero, it jumps by setting the instruction pointer to the value of its literal operand; if this instruction jumps, the instruction pointer is not increased by 2 after this instruction."
   ]
  },
  {
   "cell_type": "code",
   "execution_count": 11,
   "id": "89a3e28f-6937-49f7-ab5e-79a09be8c297",
   "metadata": {},
   "outputs": [],
   "source": [
    "def jnz():\n",
    "    if r[0] != 0:\n",
    "        p = code[p+1] - 2"
   ]
  },
  {
   "cell_type": "markdown",
   "id": "7768d60e-b556-4a73-b8f6-73f68d61db62",
   "metadata": {},
   "source": [
    "The bxc instruction (opcode 4) calculates the bitwise XOR of register B and register C, then stores the result in register B. (For legacy reasons, this instruction reads an operand but ignores it.)"
   ]
  },
  {
   "cell_type": "code",
   "execution_count": 12,
   "id": "be3cf246-ae03-4265-a37e-fe9d90fec983",
   "metadata": {},
   "outputs": [],
   "source": [
    "def bxc():\n",
    "    r[1] = r[1] ^ r[2]"
   ]
  },
  {
   "cell_type": "markdown",
   "id": "407e93d3-f128-4f51-8aa6-d29721840961",
   "metadata": {},
   "source": [
    "The out instruction (opcode 5) calculates the value of its combo operand modulo 8, then outputs that value. (If a program outputs multiple values, they are separated by commas.)"
   ]
  },
  {
   "cell_type": "code",
   "execution_count": 14,
   "id": "8e05e0a2-074e-4859-bed6-409c33193ce2",
   "metadata": {},
   "outputs": [],
   "source": [
    "def out():\n",
    "    print(combo(code[p+1]) % 8)"
   ]
  },
  {
   "cell_type": "markdown",
   "id": "43dcc612-1504-42e8-af2f-f399f3d53931",
   "metadata": {},
   "source": [
    "The bdv instruction (opcode 6) works exactly like the adv instruction except that the result is stored in the B register. (The numerator is still read from the A register.)"
   ]
  },
  {
   "cell_type": "code",
   "execution_count": 15,
   "id": "a5ca034a-4c47-478f-b2a6-646dc0fa147f",
   "metadata": {},
   "outputs": [],
   "source": [
    "def bdv():\n",
    "    n = r[0]\n",
    "    d = combo(code[p+1])\n",
    "\n",
    "    r[1] = n >> d"
   ]
  },
  {
   "cell_type": "markdown",
   "id": "4dfdef30-d389-4a2c-b601-d61e361f31b3",
   "metadata": {},
   "source": [
    "The cdv instruction (opcode 7) works exactly like the adv instruction except that the result is stored in the C register. (The numerator is still read from the A register.)"
   ]
  },
  {
   "cell_type": "code",
   "execution_count": 16,
   "id": "8e725312-a137-4b7d-a320-3edbb8ff58e6",
   "metadata": {},
   "outputs": [],
   "source": [
    "def cdv():\n",
    "    n = r[0]\n",
    "    d = combo(code[p+1])\n",
    "\n",
    "    r[2] = n >> d"
   ]
  },
  {
   "cell_type": "code",
   "execution_count": null,
   "id": "ada25c3f-df68-487c-8997-1e495d03b930",
   "metadata": {},
   "outputs": [],
   "source": [
    "ops = [adv,bxl,bst,"
   ]
  },
  {
   "cell_type": "code",
   "execution_count": null,
   "id": "afe89c3e-24a1-4af5-84d9-568f5c856816",
   "metadata": {},
   "outputs": [],
   "source": [
    "while True:\n",
    "    "
   ]
  }
 ],
 "metadata": {
  "kernelspec": {
   "display_name": "Python 3 (ipykernel)",
   "language": "python",
   "name": "python3"
  },
  "language_info": {
   "codemirror_mode": {
    "name": "ipython",
    "version": 3
   },
   "file_extension": ".py",
   "mimetype": "text/x-python",
   "name": "python",
   "nbconvert_exporter": "python",
   "pygments_lexer": "ipython3",
   "version": "3.8.10"
  }
 },
 "nbformat": 4,
 "nbformat_minor": 5
}
