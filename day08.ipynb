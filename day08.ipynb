{
 "cells": [
  {
   "cell_type": "code",
   "execution_count": 6,
   "id": "dd3b6ec4",
   "metadata": {},
   "outputs": [],
   "source": [
    "from collections import defaultdict"
   ]
  },
  {
   "cell_type": "code",
   "execution_count": 48,
   "id": "431662d2",
   "metadata": {},
   "outputs": [],
   "source": [
    "with open(\"8.in\") as f:\n",
    "    D = f.read()\n",
    "lines = D.split(\"\\n\")\n",
    "\n",
    "f = defaultdict(list)\n",
    "\n",
    "m = len(lines)\n",
    "n = len(lines[0])\n",
    "\n",
    "for i in range(m):\n",
    "    for j in range(n):\n",
    "        c = lines[i][j]\n",
    "        if c != \".\":\n",
    "            f[c].append((i,j))"
   ]
  },
  {
   "cell_type": "code",
   "execution_count": 28,
   "id": "15b03744",
   "metadata": {},
   "outputs": [
    {
     "data": {
      "text/plain": [
       "(12, 12)"
      ]
     },
     "execution_count": 28,
     "metadata": {},
     "output_type": "execute_result"
    }
   ],
   "source": [
    "m,n"
   ]
  },
  {
   "cell_type": "code",
   "execution_count": 12,
   "id": "cbdcadf9",
   "metadata": {},
   "outputs": [
    {
     "data": {
      "text/plain": [
       "252"
      ]
     },
     "execution_count": 12,
     "metadata": {},
     "output_type": "execute_result"
    }
   ],
   "source": [
    "antinodes = set()\n",
    "\n",
    "for l in f.values():\n",
    "    for p0 in l:\n",
    "        for p1 in l:\n",
    "            if p1 == p0:\n",
    "                continue\n",
    "            i0,j0 = p0\n",
    "            i1,j1 = p1\n",
    "            \n",
    "            i2 = 2*i1 - i0\n",
    "            j2 = 2*j1 - j0\n",
    "            \n",
    "            if (0 <= i2 < m) and (0 <= j2 < n):\n",
    "                antinodes.add((i2,j2))\n",
    "\n",
    "len(antinodes)"
   ]
  },
  {
   "cell_type": "markdown",
   "id": "874428ea",
   "metadata": {},
   "source": [
    "# Part 2"
   ]
  },
  {
   "cell_type": "code",
   "execution_count": 49,
   "id": "f6d4d646",
   "metadata": {},
   "outputs": [
    {
     "data": {
      "text/plain": [
       "839"
      ]
     },
     "execution_count": 49,
     "metadata": {},
     "output_type": "execute_result"
    }
   ],
   "source": [
    "antinodes = set()\n",
    "\n",
    "m = len(lines)\n",
    "n = len(lines[0])\n",
    "\n",
    "for l in f.values():\n",
    "    for p0 in l:\n",
    "        for p1 in l:\n",
    "            if p1 == p0:\n",
    "                continue\n",
    "            i0,j0 = p0\n",
    "            i1,j1 = p1\n",
    "            \n",
    "            #Forward\n",
    "            s = 0\n",
    "            while True:\n",
    "                i2 = i1 + s*(i1 - i0)\n",
    "                j2 = j1 + s*(j1 - j0)\n",
    "                \n",
    "                if not ((0 <= i2 < m) and (0 <= j2 < n)):\n",
    "                    break\n",
    "                    \n",
    "                antinodes.add((i2,j2))\n",
    "                \n",
    "                s += 1\n",
    "\n",
    "len(antinodes)"
   ]
  },
  {
   "cell_type": "code",
   "execution_count": 19,
   "id": "0a032ddd",
   "metadata": {},
   "outputs": [
    {
     "data": {
      "text/plain": [
       "(1, 0)"
      ]
     },
     "execution_count": 19,
     "metadata": {},
     "output_type": "execute_result"
    }
   ],
   "source": [
    "m,n"
   ]
  },
  {
   "cell_type": "code",
   "execution_count": 40,
   "id": "cffbdac2",
   "metadata": {},
   "outputs": [],
   "source": []
  },
  {
   "cell_type": "code",
   "execution_count": 43,
   "id": "c9a016c8",
   "metadata": {},
   "outputs": [
    {
     "data": {
      "text/plain": [
       "['#.....#..#..',\n",
       " '.#.#...##...',\n",
       " '..#.##....#.',\n",
       " '...#...#.#..',\n",
       " '....#.......',\n",
       " '.....##.....',\n",
       " '......#.....',\n",
       " '.......#....',\n",
       " '........#...',\n",
       " '.........#..',\n",
       " '..........#.',\n",
       " '...........#']"
      ]
     },
     "execution_count": 43,
     "metadata": {},
     "output_type": "execute_result"
    }
   ],
   "source": [
    "grid = [\".\"*n for _ in range(m)]\n",
    "for i,j in antinodes:\n",
    "    grid[i] = grid[i][:j] + '#' + grid[i][j+1:]\n",
    "    \n",
    "grid"
   ]
  },
  {
   "cell_type": "code",
   "execution_count": 44,
   "id": "6c12292d",
   "metadata": {},
   "outputs": [
    {
     "data": {
      "text/plain": [
       "['............',\n",
       " '........0...',\n",
       " '.....0......',\n",
       " '.......0....',\n",
       " '....0.......',\n",
       " '......A.....',\n",
       " '............',\n",
       " '............',\n",
       " '........A...',\n",
       " '.........A..',\n",
       " '............',\n",
       " '............']"
      ]
     },
     "execution_count": 44,
     "metadata": {},
     "output_type": "execute_result"
    }
   ],
   "source": [
    "lines"
   ]
  },
  {
   "cell_type": "code",
   "execution_count": 45,
   "id": "2076e8c1",
   "metadata": {},
   "outputs": [
    {
     "data": {
      "text/plain": [
       "defaultdict(list,\n",
       "            {'0': [(1, 8), (2, 5), (3, 7), (4, 4)],\n",
       "             'A': [(5, 6), (8, 8), (9, 9)]})"
      ]
     },
     "execution_count": 45,
     "metadata": {},
     "output_type": "execute_result"
    }
   ],
   "source": [
    "f"
   ]
  },
  {
   "cell_type": "code",
   "execution_count": null,
   "id": "929aca75",
   "metadata": {},
   "outputs": [],
   "source": []
  }
 ],
 "metadata": {
  "kernelspec": {
   "display_name": "Python 3 (ipykernel)",
   "language": "python",
   "name": "python3"
  },
  "language_info": {
   "codemirror_mode": {
    "name": "ipython",
    "version": 3
   },
   "file_extension": ".py",
   "mimetype": "text/x-python",
   "name": "python",
   "nbconvert_exporter": "python",
   "pygments_lexer": "ipython3",
   "version": "3.8.4"
  }
 },
 "nbformat": 4,
 "nbformat_minor": 5
}
