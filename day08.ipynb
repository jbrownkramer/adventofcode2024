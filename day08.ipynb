{
 "cells": [
  {
   "cell_type": "code",
   "execution_count": 66,
   "id": "f589e360",
   "metadata": {},
   "outputs": [],
   "source": [
    "from collections import defaultdict, Counter"
   ]
  },
  {
   "cell_type": "code",
   "execution_count": 48,
   "id": "e6d2dca0",
   "metadata": {},
   "outputs": [],
   "source": [
    "with open(\"8.in\") as f:\n",
    "    D = f.read()\n",
    "lines = D.split(\"\\n\")\n",
    "\n",
    "f = defaultdict(list)\n",
    "\n",
    "m = len(lines)\n",
    "n = len(lines[0])\n",
    "\n",
    "for i in range(m):\n",
    "    for j in range(n):\n",
    "        c = lines[i][j]\n",
    "        if c != \".\":\n",
    "            f[c].append((i,j))"
   ]
  },
  {
   "cell_type": "code",
   "execution_count": 28,
   "id": "aa109e34",
   "metadata": {},
   "outputs": [
    {
     "data": {
      "text/plain": [
       "(12, 12)"
      ]
     },
     "execution_count": 28,
     "metadata": {},
     "output_type": "execute_result"
    }
   ],
   "source": [
    "m,n"
   ]
  },
  {
   "cell_type": "code",
   "execution_count": 12,
   "id": "6bc000f9",
   "metadata": {},
   "outputs": [
    {
     "data": {
      "text/plain": [
       "252"
      ]
     },
     "execution_count": 12,
     "metadata": {},
     "output_type": "execute_result"
    }
   ],
   "source": [
    "antinodes = set()\n",
    "\n",
    "for l in f.values():\n",
    "    for p0 in l:\n",
    "        for p1 in l:\n",
    "            if p1 == p0:\n",
    "                continue\n",
    "            i0,j0 = p0\n",
    "            i1,j1 = p1\n",
    "            \n",
    "            i2 = 2*i1 - i0\n",
    "            j2 = 2*j1 - j0\n",
    "            \n",
    "            if (0 <= i2 < m) and (0 <= j2 < n):\n",
    "                antinodes.add((i2,j2))\n",
    "\n",
    "len(antinodes)"
   ]
  },
  {
   "cell_type": "markdown",
   "id": "a181444a",
   "metadata": {},
   "source": [
    "# Part 2"
   ]
  },
  {
   "cell_type": "code",
   "execution_count": 49,
   "id": "4526508b",
   "metadata": {},
   "outputs": [
    {
     "data": {
      "text/plain": [
       "839"
      ]
     },
     "execution_count": 49,
     "metadata": {},
     "output_type": "execute_result"
    }
   ],
   "source": [
    "antinodes = set()\n",
    "\n",
    "m = len(lines)\n",
    "n = len(lines[0])\n",
    "\n",
    "for l in f.values():\n",
    "    for p0 in l:\n",
    "        for p1 in l:\n",
    "            if p1 == p0:\n",
    "                continue\n",
    "            i0,j0 = p0\n",
    "            i1,j1 = p1\n",
    "            \n",
    "            #Forward\n",
    "            s = 0\n",
    "            while True:\n",
    "                i2 = i1 + s*(i1 - i0)\n",
    "                j2 = j1 + s*(j1 - j0)\n",
    "                \n",
    "                if not ((0 <= i2 < m) and (0 <= j2 < n)):\n",
    "                    break\n",
    "                    \n",
    "                antinodes.add((i2,j2))\n",
    "                \n",
    "                s += 1\n",
    "\n",
    "len(antinodes)"
   ]
  },
  {
   "cell_type": "markdown",
   "id": "edcb5e0e",
   "metadata": {},
   "source": [
    "# Discussion\n",
    "\n",
    "I didn't think about the possibility that there are more points on the line than you get to by jumping by multiples of the\n",
    "gap between nodes.  You should divide the gap by the gcd of the x an y components.  However, as shown below, the gcds are all one.  BTW: Almost certainly not a coincidence.  All you would need for, say, a gcd of 2 is that matching coordinates have the same parity, which happens for sure by pigeon hole principle if there are more than 4 nodes in a frequency (turns out there are not).  And among 4 node frequencies (which all but a handful are), the probability of avoiding the same parity class is $4!/4^4$ = 24/256, which is less than 10%.\n",
    "\n",
    "For fun, Let's think about mod 3.  It's the same kind of logic.  But now there are 9 classes.  Now the probability is $4!\\binom{9}{4}/9^4$ which is 46%.  Again, over 34 frequences with 4 things, this is a near impossibility to avoid randomly."
   ]
  },
  {
   "cell_type": "code",
   "execution_count": 65,
   "id": "adebe14f",
   "metadata": {},
   "outputs": [
    {
     "data": {
      "text/plain": [
       "0.4609053497942387"
      ]
     },
     "execution_count": 65,
     "metadata": {},
     "output_type": "execute_result"
    }
   ],
   "source": [
    "9*8*7*6 / (9 * 9 * 9 * 9)"
   ]
  },
  {
   "cell_type": "code",
   "execution_count": 51,
   "id": "77aa937c",
   "metadata": {},
   "outputs": [],
   "source": [
    "def gcd(a,b):\n",
    "    if a < b:\n",
    "        return gcd(b,a)\n",
    "    \n",
    "    if b == 0:\n",
    "        return a\n",
    "    \n",
    "    return gcd(b,a%b)"
   ]
  },
  {
   "cell_type": "code",
   "execution_count": 59,
   "id": "bc14074f",
   "metadata": {},
   "outputs": [],
   "source": [
    "gcds = set()\n",
    "\n",
    "for l in f.values():\n",
    "    for p0 in l:\n",
    "        for p1 in l:\n",
    "            if p0 == p1:\n",
    "                continue\n",
    "            gcds.add(gcd(abs(p1[0] - p0[0]),abs(p1[1] - p0[1])))"
   ]
  },
  {
   "cell_type": "code",
   "execution_count": 60,
   "id": "3593162b",
   "metadata": {},
   "outputs": [
    {
     "data": {
      "text/plain": [
       "{1}"
      ]
     },
     "execution_count": 60,
     "metadata": {},
     "output_type": "execute_result"
    }
   ],
   "source": [
    "gcds"
   ]
  },
  {
   "cell_type": "code",
   "execution_count": 61,
   "id": "62426cb2",
   "metadata": {},
   "outputs": [
    {
     "data": {
      "text/plain": [
       "defaultdict(list,\n",
       "            {'4': [(0, 13), (2, 14), (9, 11), (11, 10)],\n",
       "             'O': [(0, 18), (8, 17), (13, 4), (15, 1)],\n",
       "             'w': [(0, 29), (7, 33), (15, 28), (34, 22)],\n",
       "             'R': [(0, 34), (3, 20), (4, 15), (21, 9)],\n",
       "             'f': [(1, 33), (6, 24), (9, 22), (26, 7)],\n",
       "             'j': [(2, 18), (12, 21), (15, 16), (17, 25)],\n",
       "             'N': [(2, 25), (7, 23), (8, 18), (9, 28)],\n",
       "             'W': [(2, 26), (3, 23), (6, 33), (31, 20)],\n",
       "             '0': [(2, 27), (6, 32), (9, 25), (31, 48)],\n",
       "             'v': [(6, 0), (24, 11), (25, 14), (43, 9)],\n",
       "             '9': [(7, 5), (8, 9), (9, 12)],\n",
       "             'L': [(7, 6), (8, 4), (9, 13)],\n",
       "             'l': [(7, 19), (10, 30), (14, 31), (15, 22)],\n",
       "             '8': [(8, 27), (17, 28), (25, 33), (26, 26)],\n",
       "             '1': [(9, 1), (27, 20), (32, 28), (38, 29)],\n",
       "             'V': [(10, 26), (29, 31), (34, 39), (35, 38)],\n",
       "             '3': [(12, 41), (18, 48), (19, 43), (23, 22)],\n",
       "             'U': [(12, 47), (13, 10), (17, 1), (18, 16)],\n",
       "             'J': [(14, 8), (19, 30), (21, 21), (30, 17)],\n",
       "             's': [(15, 6), (21, 5), (22, 1), (34, 12)],\n",
       "             'Q': [(15, 8), (23, 13), (28, 25), (42, 12)],\n",
       "             'F': [(15, 39), (20, 30), (21, 40), (22, 35)],\n",
       "             'q': [(15, 43), (22, 41), (25, 46), (30, 42)],\n",
       "             '2': [(19, 0), (23, 7), (32, 6), (42, 17)],\n",
       "             'x': [(22, 24), (23, 31), (30, 29), (41, 32)],\n",
       "             'u': [(24, 34), (41, 42), (43, 49)],\n",
       "             'n': [(25, 26), (27, 21), (30, 28), (38, 37)],\n",
       "             'i': [(26, 35), (27, 42), (33, 31)],\n",
       "             '5': [(27, 1), (29, 6), (32, 22), (38, 11)],\n",
       "             'P': [(27, 36), (32, 33), (33, 35), (36, 28)],\n",
       "             '7': [(28, 12), (33, 24), (36, 31), (39, 29)],\n",
       "             'X': [(28, 44), (33, 26), (40, 31), (49, 33)],\n",
       "             'p': [(29, 10), (31, 7), (32, 20), (42, 9)],\n",
       "             'I': [(33, 6), (39, 11), (44, 0), (46, 7)],\n",
       "             'r': [(34, 18), (35, 16), (39, 21), (40, 19)],\n",
       "             'o': [(35, 15), (37, 10), (38, 26), (40, 17)],\n",
       "             '6': [(35, 20), (39, 37), (44, 34), (48, 39)],\n",
       "             'S': [(36, 29), (37, 38), (43, 27), (44, 28)]})"
      ]
     },
     "execution_count": 61,
     "metadata": {},
     "output_type": "execute_result"
    }
   ],
   "source": [
    "f"
   ]
  },
  {
   "cell_type": "code",
   "execution_count": 71,
   "id": "ee8dc7d7",
   "metadata": {},
   "outputs": [
    {
     "data": {
      "text/plain": [
       "Counter({4: 34, 3: 4})"
      ]
     },
     "execution_count": 71,
     "metadata": {},
     "output_type": "execute_result"
    }
   ],
   "source": [
    "Counter([len(l) for l in f.values()])"
   ]
  },
  {
   "cell_type": "code",
   "execution_count": null,
   "id": "a4b1eacb",
   "metadata": {},
   "outputs": [],
   "source": []
  }
 ],
 "metadata": {
  "kernelspec": {
   "display_name": "Python 3 (ipykernel)",
   "language": "python",
   "name": "python3"
  },
  "language_info": {
   "codemirror_mode": {
    "name": "ipython",
    "version": 3
   },
   "file_extension": ".py",
   "mimetype": "text/x-python",
   "name": "python",
   "nbconvert_exporter": "python",
   "pygments_lexer": "ipython3",
   "version": "3.8.4"
  }
 },
 "nbformat": 4,
 "nbformat_minor": 5
}
