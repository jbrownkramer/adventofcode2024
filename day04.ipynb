{
 "cells": [
  {
   "cell_type": "code",
   "execution_count": 12,
   "metadata": {},
   "outputs": [],
   "source": [
    "with open(\"4.in\",\"r\") as f:\n",
    "    lines = f.readlines()\n",
    "lines = [l.strip() for l in lines]\n",
    "\n",
    "m = len(lines)\n",
    "n = len(lines[0])"
   ]
  },
  {
   "cell_type": "code",
   "execution_count": 28,
   "metadata": {},
   "outputs": [
    {
     "data": {
      "text/plain": [
       "(140, 140)"
      ]
     },
     "execution_count": 28,
     "metadata": {},
     "output_type": "execute_result"
    }
   ],
   "source": [
    "m,n"
   ]
  },
  {
   "cell_type": "code",
   "execution_count": null,
   "metadata": {},
   "outputs": [],
   "source": []
  },
  {
   "cell_type": "code",
   "execution_count": 13,
   "metadata": {},
   "outputs": [],
   "source": [
    "t = 0\n",
    "for i in range(m):\n",
    "    for j in range(n):\n",
    "        for di in range(-1,2):\n",
    "            for dj in range(-1,2):\n",
    "                if di == 0 and dj == 0:\n",
    "                    continue\n",
    "                ci = i\n",
    "                cj = j\n",
    "                for c in \"XMAS\":\n",
    "                    if ci < 0 or ci >= m or cj < 0 or cj >= n:\n",
    "                        break\n",
    "                    if lines[ci][cj] != c:\n",
    "                        break\n",
    "                    ci += di\n",
    "                    cj += dj\n",
    "                else:\n",
    "                    t += 1\n",
    "                    "
   ]
  },
  {
   "cell_type": "code",
   "execution_count": 15,
   "metadata": {},
   "outputs": [
    {
     "data": {
      "text/plain": [
       "2517"
      ]
     },
     "execution_count": 15,
     "metadata": {},
     "output_type": "execute_result"
    }
   ],
   "source": [
    "t"
   ]
  },
  {
   "cell_type": "code",
   "execution_count": 30,
   "metadata": {},
   "outputs": [],
   "source": [
    "a = \"liam\""
   ]
  },
  {
   "cell_type": "code",
   "execution_count": 34,
   "metadata": {},
   "outputs": [
    {
     "data": {
      "text/plain": [
       "'a'"
      ]
     },
     "execution_count": 34,
     "metadata": {},
     "output_type": "execute_result"
    }
   ],
   "source": [
    "a[-2]"
   ]
  },
  {
   "cell_type": "markdown",
   "metadata": {},
   "source": [
    "# Part 2"
   ]
  },
  {
   "cell_type": "code",
   "execution_count": 26,
   "metadata": {},
   "outputs": [],
   "source": [
    "with open(\"4.in\",\"r\") as f:\n",
    "    lines = f.readlines()\n",
    "lines = [l.strip() for l in lines]\n",
    "\n",
    "m = len(lines)\n",
    "n = len(lines[0])"
   ]
  },
  {
   "cell_type": "code",
   "execution_count": 27,
   "metadata": {},
   "outputs": [
    {
     "data": {
      "text/plain": [
       "1960"
      ]
     },
     "execution_count": 27,
     "metadata": {},
     "output_type": "execute_result"
    }
   ],
   "source": [
    "t = 0\n",
    "\n",
    "for i in range(1,m-1):\n",
    "    for j in range(1,n-1):\n",
    "        if lines[i][j] != 'A':\n",
    "            continue\n",
    "            \n",
    "        #\\\n",
    "        back = set([lines[i - 1][j - 1],lines[i + 1][j + 1]]) == set([\"M\",\"S\"])\n",
    "        \n",
    "        #/\n",
    "        forward = set([lines[i - 1][j + 1],lines[i + 1][j - 1]]) == set([\"M\",\"S\"])\n",
    "            \n",
    "        if back and forward:\n",
    "            t+=1\n",
    "            \n",
    "t\n"
   ]
  }
 ],
 "metadata": {
  "kernelspec": {
   "display_name": "Python 3",
   "language": "python",
   "name": "python3"
  },
  "language_info": {
   "codemirror_mode": {
    "name": "ipython",
    "version": 3
   },
   "file_extension": ".py",
   "mimetype": "text/x-python",
   "name": "python",
   "nbconvert_exporter": "python",
   "pygments_lexer": "ipython3",
   "version": "3.8.4"
  }
 },
 "nbformat": 4,
 "nbformat_minor": 4
}
